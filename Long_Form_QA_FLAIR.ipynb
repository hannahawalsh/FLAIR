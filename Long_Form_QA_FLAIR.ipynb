{
 "cells": [
  {
   "cell_type": "markdown",
   "metadata": {},
   "source": [
    "<img src=\"src/pighat.png\" alt=\"drawing\" width=\"400\"/>\n",
    "<h1 style='text-align:center;'><span style='color:#46aa22;'>Financial Literacy </span><span style='color:#80d162;'>AI </span><span style='color:#46aa22;'>Resource</span></h1>\n",
    "\n",
    "<a href=\"https://colab.research.google.com/github/hannahawalsh/FLAIR/blob/main/Long_Form_QA_FLAIR.ipynb\" target=\"_parent\"><img src=\"https://colab.research.google.com/assets/colab-badge.svg\" alt=\"Open In Colab\"/></a>\n",
    "\n",
    "---\n",
    "\n",
    "Write Summary Here"
   ]
  },
  {
   "cell_type": "code",
   "execution_count": null,
   "metadata": {
    "id": "DdZPayIBJrMM"
   },
   "outputs": [],
   "source": [
    "# Install dependencies\n",
    "!pip install transformers\n",
    "!pip install faiss_gpu\n",
    "!pip install datasets \n",
    "!git clone https://github.com/hannahawalsh/FLAIR.git"
   ]
  },
  {
   "cell_type": "code",
   "execution_count": 35,
   "metadata": {
    "id": "95gDXiyUIDQv"
   },
   "outputs": [],
   "source": [
    "# Imports\n",
    "from transformers import AutoTokenizer, AutoModelForSeq2SeqLM, AutoModel\n",
    "from datasets import load_dataset\n",
    "import torch\n",
    "from tqdm import tqdm\n",
    "import time\n",
    "import numpy as np\n",
    "import re\n",
    "import os\n",
    "import faiss\n",
    "from LFQA_utils import longFormQA, wrap_print, ask_questions"
   ]
  },
  {
   "cell_type": "markdown",
   "metadata": {},
   "source": [
    "### The Long Form Question Answering Model\n",
    "A long form question answering model is an AI model that provides long, complex answers to questions. Unlike other question answering models, it does not simply pull snippets of text from a database for its answers, but synthesizes information to create one cohesive answer. It can answer more abstract questions rather than trivia-type ones.  \n",
    "\n",
    "Our model actually consists of two parts. One is the question-answer model, which pulls passages of text relating to the answer. The second is a sequence to sequence model, which forms those answers into one cohesive answer. \n",
    "\n",
    "Some of the functions used in this project are modified from the blogpost and accompanying github code [Explain _Anything_ Like I'm Five: A Model for Open Domain Long Form Question Answering](https://yjernite.github.io/lfqa.html), which goes more in depth on the technical aspects of this type of model. We applied their concepts to fit the needs of our project and apply it to the financial literacy world.  \n",
    "\n",
    "---"
   ]
  },
  {
   "cell_type": "markdown",
   "metadata": {},
   "source": [
    "#### Loading the model and the data\n",
    "Run the below cell to load the model weights and index the financial literacy dataset (if that file doesn't already exist). It might take a little bit if the data hasn't been indexed. You only need to run this cell once per session.\n",
    "\n",
    "Note: this must be run on a GPU to work. It currently doesn't support running on a CPU. If you're running this in Google Colab, don't worry; it is already set up to run on a small GPU."
   ]
  },
  {
   "cell_type": "code",
   "execution_count": 4,
   "metadata": {
    "colab": {
     "base_uri": "https://localhost:8080/",
     "height": 104,
     "referenced_widgets": [
      "71022fb18a6a4a539aef3056502e9dcd",
      "5f0afe6786fd4ad39e534bf5d2fb6480",
      "41ce2071c6974832ab5f2df9c990a14a",
      "ea4935dd905544a09256d37ae5af4f96",
      "375129b50ec34c8ebe7b20966b945196",
      "d6f0070cb817423a8613d5fcce176e69",
      "0276465aeda54afba389df16edeea43d",
      "974b6f6f6d3c4174917a061ba310eaa6",
      "d0235b28ed194bdc99a86a9ca9d8e4ed",
      "e37581546b684c9ca4ffd02148d059b0",
      "1516a4dd0cb04d369fb94ad5613db5b8"
     ]
    },
    "id": "Kxh8Y7NWhUFE",
    "outputId": "fcfb8021-e6b7-46ed-801c-6805bdaf7775"
   },
   "outputs": [
    {
     "name": "stderr",
     "output_type": "stream",
     "text": [
      "Using custom data configuration default-5ef29c70503a7338\n",
      "Reusing dataset csv (/root/.cache/huggingface/datasets/csv/default-5ef29c70503a7338/0.0.0/433e0ccc46f9880962cc2b12065189766fbb2bee57a221866138fb9203c83519)\n"
     ]
    },
    {
     "data": {
      "application/vnd.jupyter.widget-view+json": {
       "model_id": "71022fb18a6a4a539aef3056502e9dcd",
       "version_major": 2,
       "version_minor": 0
      },
      "text/plain": [
       "  0%|          | 0/1 [00:00<?, ?it/s]"
      ]
     },
     "metadata": {},
     "output_type": "display_data"
    }
   ],
   "source": [
    "# Initialize our Long-Form Question-Answering class\n",
    "data_filename = \"financial_literacy_dataset.csv\"\n",
    "lfqa = longFormQA(data_filename)\n",
    "\n",
    "# Load model weights from hugging face\n",
    "qa_model_name = \"yjernite/retribert-base-uncased\"\n",
    "s2s_model_name = \"yjernite/bart_eli5\"\n",
    "lfqa.load_model_weights(qa_model_name, s2s_model_name)\n",
    "\n",
    "# Create a dense index of our data if one hasn't been created yet\n",
    "lfqa.create_dense_index(batch_size=512)"
   ]
  },
  {
   "cell_type": "markdown",
   "metadata": {},
   "source": [
    "### And we're ready to roll!\n",
    "You can now ask the model questions! Try it out below.\n",
    "\n",
    "Change how the answers are formed by changing some of the custom parameters.\n",
    "\n",
    "Do note that because of the limited time and resources of the hackathon, the answers may not always make that much sense or be accurate. It also doesn't know anything about non-financial topics, so don't ask!"
   ]
  },
  {
   "cell_type": "code",
   "execution_count": null,
   "metadata": {},
   "outputs": [],
   "source": [
    "# Ask it a question\n",
    "question = \"What is a credit score?\"\n",
    "answer = lfqa.ask_a_question(Q, **model_kwargs)\n",
    "wrap_print(answer)"
   ]
  },
  {
   "cell_type": "code",
   "execution_count": null,
   "metadata": {},
   "outputs": [],
   "source": [
    "# Add some custom parameters \n",
    "max_question_len = 512\n",
    "min_answer_len = 256\n",
    "max_answer_len = 512\n",
    "question = \"What is a credit score?\"\n",
    "\n",
    "answer = lfqa.ask_a_question(Q, **model_kwargs)\n",
    "wrap_print(answer)"
   ]
  },
  {
   "cell_type": "markdown",
   "metadata": {},
   "source": [
    "---\n",
    "Below are a few more examples. Feel free to change the cells to experiment yourself. Note the model is lacking information in some areas so it doesn't answer well, or even correctly. Also watch for how the model parameters affect the answers."
   ]
  },
  {
   "cell_type": "code",
   "execution_count": 40,
   "metadata": {
    "colab": {
     "base_uri": "https://localhost:8080/"
    },
    "id": "FLQbDinuhS1z",
    "outputId": "18c94d03-bba2-45aa-c6ba-9c3246094a19"
   },
   "outputs": [
    {
     "name": "stdout",
     "output_type": "stream",
     "text": [
      "Question:\n",
      "What is a credit score?\n",
      "Answer:\n",
      "A credit score is a measure of how likely you are to pay your bills on time. If\n",
      "you pay your bill on time, you have a higher credit score than if you don't.\n",
      "Credit scores are used by banks and credit card companies to determine how\n",
      "likely it is that you will be able to pay them back.\n",
      "\n",
      "Question:\n",
      "What is the minimum amount I need to open a bank account?\n",
      "Answer:\n",
      "The minimum amount you need to open a bank account is the minimum amount of\n",
      "money the bank will give you to open an account. If you have more than that,\n",
      "you'll have to pay a fee to the bank for the privilege of opening an account,\n",
      "and you'll be charged a fee for every transaction you make.\n",
      "\n",
      "Question:\n",
      "Is there an account for medical costs?\n",
      "Answer:\n",
      "There is an account for medical costs. It's called a medical expense account.\n",
      "If you don't have an account, you can't use it for medical expenses. The only\n",
      "way to use it is if you have a medical emergency, and the insurance company will\n",
      "pay you for it. You can use it to pay for your medical expenses, but you won't\n",
      "be able to access it.\n",
      "\n",
      "Question:\n",
      "Should I save for retirement if I paid off all my bills?\n",
      "Answer:\n",
      "No. You can't save for retirement if you pay off all your bills. If you don't\n",
      "pay off your bills, you're not going to be able to afford retirement, and you're\n",
      "going to have to take out a loan to pay for the rest of the expenses you'll have\n",
      "to pay off in retirement.\n",
      "\n",
      "Question:\n",
      "How do I pay my bills every month?\n",
      "Answer:\n",
      "You don't have to pay your bills every month. You just have to make sure you\n",
      "pay them on time. If you miss a payment, you can call the bank or credit card\n",
      "company and they will send you a reminder to make the payment. If they don't,\n",
      "they will call the IRS and you will owe them money.\n",
      "\n",
      "Question:\n",
      "What's the first thing I should do when I get out of jail?\n",
      "Answer:\n",
      "Read up on the [Fair Debt Collection Act]( URL_0 ). Basically, if you have any\n",
      "outstanding debt, you have to pay it off. If you don't, you can't get out of\n",
      "jail, and you'll be stuck in jail for a long time. The first thing you should do\n",
      "is pay your debt.\n",
      "\n",
      "Question:\n",
      "Are there resources for people leaving prison?\n",
      "Answer:\n",
      "Depends on the situation. If you're in a prison for a long time, you're\n",
      "probably not going to be able to get a job or a place to live once you're out of\n",
      "prison. But if you're not in prison, you may have a job lined up for you when\n",
      "you're released.\n",
      "\n"
     ]
    }
   ],
   "source": [
    "# Here's a few more examples\n",
    "kwargs = {\n",
    "    \"max_question_len\": 1024, \n",
    "    \"min_answer_len\": 64, \n",
    "    \"max_answer_len\": 512} \n",
    "\n",
    "questions = [\n",
    "    \"What is the minimum amount I need to open a bank account?\",\n",
    "    \"Is there an account for medical costs?\",\n",
    "    \"Should I save for retirement if I paid off all my bills?\",\n",
    "    \"How do I pay my bills every month?\",\n",
    "    \"What's the first thing I should do when I get out of jail?\",\n",
    "    \"Are there resources for people leaving prison?\"]\n",
    "\n",
    "ask_questions(questions, kwargs)"
   ]
  },
  {
   "cell_type": "code",
   "execution_count": 41,
   "metadata": {
    "colab": {
     "base_uri": "https://localhost:8080/"
    },
    "id": "L6mX6z2nhSyy",
    "outputId": "86185e5b-1497-4505-a31c-d55cc71631c1"
   },
   "outputs": [
    {
     "name": "stdout",
     "output_type": "stream",
     "text": [
      "Question:\n",
      "What is a credit score?\n",
      "Answer:\n",
      "A credit score is a measure of how likely you are to pay back your debts on\n",
      "time. If you pay your bills on time, you have a higher credit score than if you\n",
      "don't.\n",
      "\n",
      "Question:\n",
      "What is the minimum amount I need to open a bank account?\n",
      "Answer:\n",
      "There is no minimum amount you need to open a bank account. There is a minimum\n",
      "amount of money you *need* to open an account. If you do not meet the minimum\n",
      "amount, you will not be able to open one.\n",
      "\n",
      "Question:\n",
      "Is there an account for medical costs?\n",
      "Answer:\n",
      "Yes, there is an account for medical costs. It's called a [medical expense\n",
      "account]( URL_0 ). It's not a bank account, but it's a medical expense account.\n",
      "\n",
      "Question:\n",
      "Should I save for retirement if I paid off all my bills?\n",
      "Answer:\n",
      "No, you should not. You should save for retirement if you can afford it. If you\n",
      "can't afford it, you shouldn't be saving for retirement.\n",
      "\n",
      "Question:\n",
      "How do I pay my bills every month?\n",
      "Answer:\n",
      "You don't have to pay your bills every month. You just have to make sure you\n",
      "pay them on time. If you don't make the payments on time, you'll get in trouble.\n",
      "\n",
      "Question:\n",
      "What's the first thing I should do when I get out of jail?\n",
      "Answer:\n",
      "Read a book. That's the first thing you should do when you get out of jail. You\n",
      "should read a book to learn how to be a better person.\n",
      "\n",
      "Question:\n",
      "Are there resources for people leaving prison?\n",
      "Answer:\n",
      "Depends on the state. In some states, yes. In others, no. Some states have laws\n",
      "in place that make it illegal to leave a prison without a certain amount of time\n",
      "in prison.\n",
      "\n"
     ]
    }
   ],
   "source": [
    "# Ask those same questions but with different model parameters\n",
    "kwargs = {\n",
    "    \"max_question_len\": 256, \n",
    "    \"min_answer_len\": 32, \n",
    "    \"max_answer_len\": 256} \n",
    "ask_questions(questions, kwargs)"
   ]
  },
  {
   "cell_type": "code",
   "execution_count": 42,
   "metadata": {
    "colab": {
     "base_uri": "https://localhost:8080/"
    },
    "id": "5VW2flNwyC8k",
    "outputId": "fa41da1c-85bd-423c-870b-0703b8025a3a"
   },
   "outputs": [
    {
     "name": "stdout",
     "output_type": "stream",
     "text": [
      "Question:\n",
      "How do I open up a bank account?\n",
      "Answer:\n",
      "Do you mean how to open up a bank account, or how to get one? If the latter, go\n",
      "to your bank and ask them. If the former, you'll have to go to a different bank.\n",
      "\n",
      "Question:\n",
      "What do I need a bank account for?\n",
      "Answer:\n",
      "You don't need a bank account for anything. A bank account is just a way to\n",
      "transfer money from one place to another. You can use it for a lot of different\n",
      "things.\n",
      "\n",
      "Question:\n",
      "Why should I open a savings account?\n",
      "Answer:\n",
      "A savings account is a safe place to store your money for a rainy day. You\n",
      "don't have to pay taxes on it, and you don't need to worry about the bank taking\n",
      "your money out of your checking account.\n",
      "\n",
      "Question:\n",
      "Whats the difference between a savings and checking account?\n",
      "Answer:\n",
      "A checking account is a type of checking account. It's an account that you\n",
      "can't withdraw money from. A savings account is an account where you can\n",
      "withdraw money at any time. The difference is that a savings account has a\n",
      "higher interest rate, and a checking account does not.\n",
      "\n",
      "Question:\n",
      "Whats the difference between credit and debit?\n",
      "Answer:\n",
      "Debit is a debit card. Credit is a credit card. The difference is that Debit\n",
      "has to be processed by your bank, while Credit is processed by the issuing bank.\n",
      "\n"
     ]
    }
   ],
   "source": [
    "# Try some more questions\n",
    "questions = [\n",
    "    \"How do I open up a bank account?\",\n",
    "    \"What do I need a bank account for?\",\n",
    "    \"Why should I open a savings account?\",\n",
    "    \"Whats the difference between a savings and checking account?\",\n",
    "    \"Whats the difference between credit and debit?\",\n",
    "]\n",
    "kwargs = {\"max_question_len\": 256, \"min_answer_len\": 32, \"max_answer_len\": 512} \n",
    "ask_questions(questions, kwargs)"
   ]
  },
  {
   "cell_type": "code",
   "execution_count": 43,
   "metadata": {
    "colab": {
     "base_uri": "https://localhost:8080/"
    },
    "id": "R96g_4K5yCt_",
    "outputId": "fe1fcb38-0ee5-4c8d-9669-e968890fdef1"
   },
   "outputs": [
    {
     "name": "stdout",
     "output_type": "stream",
     "text": [
      "Question:\n",
      "How do I open up a bank account?\n",
      "Answer:\n",
      "Do you mean how to open up a bank account, or how to get one? If the latter, go\n",
      "to your bank and ask them. If the former, you'll have to go to a different bank.\n",
      "\n",
      "Question:\n",
      "What do I need a bank account for?\n",
      "Answer:\n",
      "You don't need a bank account for anything. A bank account is just a way to\n",
      "transfer money from one place to another. You can use it for a lot of different\n",
      "things.\n",
      "\n",
      "Question:\n",
      "Why should I open a savings account?\n",
      "Answer:\n",
      "A savings account is a safe place to store your money for a rainy day. You\n",
      "don't have to pay taxes on it, and you don't need to worry about the bank taking\n",
      "your money out of your checking account.\n",
      "\n",
      "Question:\n",
      "Whats the difference between a savings and checking account?\n",
      "Answer:\n",
      "A checking account is a type of checking account. It's an account that you\n",
      "can't withdraw money from. A savings account is an account where you can\n",
      "withdraw money at any time. The difference is that a savings account has a\n",
      "higher interest rate, and a checking account does not.\n",
      "\n",
      "Question:\n",
      "Whats the difference between credit and debit?\n",
      "Answer:\n",
      "Debit is a debit card. Credit is a credit card. The difference is that Debit\n",
      "has to be processed by your bank, while Credit is processed by the issuing bank.\n",
      "\n"
     ]
    }
   ],
   "source": [
    "# And those same ones with different parameters\n",
    "kwargs = {\"max_question_len\": 256, \"min_answer_len\": 32, \"max_answer_len\": 512} \n",
    "ask_questions(questions, kwargs)"
   ]
  },
  {
   "cell_type": "code",
   "execution_count": 45,
   "metadata": {
    "colab": {
     "base_uri": "https://localhost:8080/"
    },
    "id": "Ucl3amIkhStk",
    "outputId": "a557ae0d-6d52-4ceb-8a0e-5b1075dd6904"
   },
   "outputs": [
    {
     "name": "stdout",
     "output_type": "stream",
     "text": [
      "Question:\n",
      "What do I do if I'm poor?\n",
      "Answer:\n",
      "If you're poor, get a job. If you don't have a job, take out a student loan and\n",
      "pay it off on time.\n",
      "\n",
      "Question:\n",
      "How do I get out of debt?\n",
      "Answer:\n",
      "You can't get out of debt if you don't pay it off.\n",
      "\n",
      "Question:\n",
      "Can I get a credit card without a credit score?\n",
      "Answer:\n",
      "Yes, you can get a credit card without a credit score. You just have to prove\n",
      "that you can pay it off on time.\n",
      "\n",
      "Question:\n",
      "How do I improve my credit score?\n",
      "Answer:\n",
      "Credit score is a measure of how likely you are to pay your bills on time. If\n",
      "you don't pay them on time, your score is going to go down.\n",
      "\n",
      "Question:\n",
      "Are there bank accounts for non-citizens?\n",
      "Answer:\n",
      "Depends on what country you're asking about. If you're talking about a bank\n",
      "account for a non-citizen, then yes.\n",
      "\n"
     ]
    }
   ],
   "source": [
    "# These answers are using different parameters and it is clear that we \n",
    "# need to increase min_answer_len\n",
    "# When answers are too short, they aren't helpful\n",
    "kwargs = {\"max_question_len\": 1024, \"min_answer_len\": 8, \"max_answer_len\": 1024} \n",
    "questions = [\n",
    "    \"What do I do if I'm poor?\",\n",
    "    \"How do I get out of debt?\",\n",
    "    \"Can I get a credit card without a credit score?\",\n",
    "    \"How do I improve my credit score?\",\n",
    "    \"Are there bank accounts for non-citizens?\"]\n",
    "ask_questions(questions, kwargs)"
   ]
  },
  {
   "cell_type": "code",
   "execution_count": 26,
   "metadata": {
    "id": "kJtiHabwunYQ"
   },
   "outputs": [],
   "source": []
  }
 ],
 "metadata": {
  "accelerator": "GPU",
  "colab": {
   "authorship_tag": "ABX9TyNmJkrV25gdD1NYg/RrcZtp",
   "collapsed_sections": [],
   "include_colab_link": true,
   "name": "Long_Form_QA_model_trials.ipynb",
   "provenance": []
  },
  "kernelspec": {
   "display_name": "Python 3",
   "language": "python",
   "name": "python3"
  },
  "language_info": {
   "codemirror_mode": {
    "name": "ipython",
    "version": 3
   },
   "file_extension": ".py",
   "mimetype": "text/x-python",
   "name": "python",
   "nbconvert_exporter": "python",
   "pygments_lexer": "ipython3",
   "version": "3.8.5"
  },
  "widgets": {
   "application/vnd.jupyter.widget-state+json": {
    "0276465aeda54afba389df16edeea43d": {
     "model_module": "@jupyter-widgets/controls",
     "model_module_version": "1.5.0",
     "model_name": "DescriptionStyleModel",
     "state": {
      "_model_module": "@jupyter-widgets/controls",
      "_model_module_version": "1.5.0",
      "_model_name": "DescriptionStyleModel",
      "_view_count": null,
      "_view_module": "@jupyter-widgets/base",
      "_view_module_version": "1.2.0",
      "_view_name": "StyleView",
      "description_width": ""
     }
    },
    "1516a4dd0cb04d369fb94ad5613db5b8": {
     "model_module": "@jupyter-widgets/controls",
     "model_module_version": "1.5.0",
     "model_name": "DescriptionStyleModel",
     "state": {
      "_model_module": "@jupyter-widgets/controls",
      "_model_module_version": "1.5.0",
      "_model_name": "DescriptionStyleModel",
      "_view_count": null,
      "_view_module": "@jupyter-widgets/base",
      "_view_module_version": "1.2.0",
      "_view_name": "StyleView",
      "description_width": ""
     }
    },
    "375129b50ec34c8ebe7b20966b945196": {
     "model_module": "@jupyter-widgets/base",
     "model_module_version": "1.2.0",
     "model_name": "LayoutModel",
     "state": {
      "_model_module": "@jupyter-widgets/base",
      "_model_module_version": "1.2.0",
      "_model_name": "LayoutModel",
      "_view_count": null,
      "_view_module": "@jupyter-widgets/base",
      "_view_module_version": "1.2.0",
      "_view_name": "LayoutView",
      "align_content": null,
      "align_items": null,
      "align_self": null,
      "border": null,
      "bottom": null,
      "display": null,
      "flex": null,
      "flex_flow": null,
      "grid_area": null,
      "grid_auto_columns": null,
      "grid_auto_flow": null,
      "grid_auto_rows": null,
      "grid_column": null,
      "grid_gap": null,
      "grid_row": null,
      "grid_template_areas": null,
      "grid_template_columns": null,
      "grid_template_rows": null,
      "height": null,
      "justify_content": null,
      "justify_items": null,
      "left": null,
      "margin": null,
      "max_height": null,
      "max_width": null,
      "min_height": null,
      "min_width": null,
      "object_fit": null,
      "object_position": null,
      "order": null,
      "overflow": null,
      "overflow_x": null,
      "overflow_y": null,
      "padding": null,
      "right": null,
      "top": null,
      "visibility": null,
      "width": null
     }
    },
    "41ce2071c6974832ab5f2df9c990a14a": {
     "model_module": "@jupyter-widgets/controls",
     "model_module_version": "1.5.0",
     "model_name": "FloatProgressModel",
     "state": {
      "_dom_classes": [],
      "_model_module": "@jupyter-widgets/controls",
      "_model_module_version": "1.5.0",
      "_model_name": "FloatProgressModel",
      "_view_count": null,
      "_view_module": "@jupyter-widgets/controls",
      "_view_module_version": "1.5.0",
      "_view_name": "ProgressView",
      "bar_style": "success",
      "description": "",
      "description_tooltip": null,
      "layout": "IPY_MODEL_974b6f6f6d3c4174917a061ba310eaa6",
      "max": 1,
      "min": 0,
      "orientation": "horizontal",
      "style": "IPY_MODEL_d0235b28ed194bdc99a86a9ca9d8e4ed",
      "value": 1
     }
    },
    "5f0afe6786fd4ad39e534bf5d2fb6480": {
     "model_module": "@jupyter-widgets/controls",
     "model_module_version": "1.5.0",
     "model_name": "HTMLModel",
     "state": {
      "_dom_classes": [],
      "_model_module": "@jupyter-widgets/controls",
      "_model_module_version": "1.5.0",
      "_model_name": "HTMLModel",
      "_view_count": null,
      "_view_module": "@jupyter-widgets/controls",
      "_view_module_version": "1.5.0",
      "_view_name": "HTMLView",
      "description": "",
      "description_tooltip": null,
      "layout": "IPY_MODEL_d6f0070cb817423a8613d5fcce176e69",
      "placeholder": "​",
      "style": "IPY_MODEL_0276465aeda54afba389df16edeea43d",
      "value": "100%"
     }
    },
    "71022fb18a6a4a539aef3056502e9dcd": {
     "model_module": "@jupyter-widgets/controls",
     "model_module_version": "1.5.0",
     "model_name": "HBoxModel",
     "state": {
      "_dom_classes": [],
      "_model_module": "@jupyter-widgets/controls",
      "_model_module_version": "1.5.0",
      "_model_name": "HBoxModel",
      "_view_count": null,
      "_view_module": "@jupyter-widgets/controls",
      "_view_module_version": "1.5.0",
      "_view_name": "HBoxView",
      "box_style": "",
      "children": [
       "IPY_MODEL_5f0afe6786fd4ad39e534bf5d2fb6480",
       "IPY_MODEL_41ce2071c6974832ab5f2df9c990a14a",
       "IPY_MODEL_ea4935dd905544a09256d37ae5af4f96"
      ],
      "layout": "IPY_MODEL_375129b50ec34c8ebe7b20966b945196"
     }
    },
    "974b6f6f6d3c4174917a061ba310eaa6": {
     "model_module": "@jupyter-widgets/base",
     "model_module_version": "1.2.0",
     "model_name": "LayoutModel",
     "state": {
      "_model_module": "@jupyter-widgets/base",
      "_model_module_version": "1.2.0",
      "_model_name": "LayoutModel",
      "_view_count": null,
      "_view_module": "@jupyter-widgets/base",
      "_view_module_version": "1.2.0",
      "_view_name": "LayoutView",
      "align_content": null,
      "align_items": null,
      "align_self": null,
      "border": null,
      "bottom": null,
      "display": null,
      "flex": null,
      "flex_flow": null,
      "grid_area": null,
      "grid_auto_columns": null,
      "grid_auto_flow": null,
      "grid_auto_rows": null,
      "grid_column": null,
      "grid_gap": null,
      "grid_row": null,
      "grid_template_areas": null,
      "grid_template_columns": null,
      "grid_template_rows": null,
      "height": null,
      "justify_content": null,
      "justify_items": null,
      "left": null,
      "margin": null,
      "max_height": null,
      "max_width": null,
      "min_height": null,
      "min_width": null,
      "object_fit": null,
      "object_position": null,
      "order": null,
      "overflow": null,
      "overflow_x": null,
      "overflow_y": null,
      "padding": null,
      "right": null,
      "top": null,
      "visibility": null,
      "width": null
     }
    },
    "d0235b28ed194bdc99a86a9ca9d8e4ed": {
     "model_module": "@jupyter-widgets/controls",
     "model_module_version": "1.5.0",
     "model_name": "ProgressStyleModel",
     "state": {
      "_model_module": "@jupyter-widgets/controls",
      "_model_module_version": "1.5.0",
      "_model_name": "ProgressStyleModel",
      "_view_count": null,
      "_view_module": "@jupyter-widgets/base",
      "_view_module_version": "1.2.0",
      "_view_name": "StyleView",
      "bar_color": null,
      "description_width": ""
     }
    },
    "d6f0070cb817423a8613d5fcce176e69": {
     "model_module": "@jupyter-widgets/base",
     "model_module_version": "1.2.0",
     "model_name": "LayoutModel",
     "state": {
      "_model_module": "@jupyter-widgets/base",
      "_model_module_version": "1.2.0",
      "_model_name": "LayoutModel",
      "_view_count": null,
      "_view_module": "@jupyter-widgets/base",
      "_view_module_version": "1.2.0",
      "_view_name": "LayoutView",
      "align_content": null,
      "align_items": null,
      "align_self": null,
      "border": null,
      "bottom": null,
      "display": null,
      "flex": null,
      "flex_flow": null,
      "grid_area": null,
      "grid_auto_columns": null,
      "grid_auto_flow": null,
      "grid_auto_rows": null,
      "grid_column": null,
      "grid_gap": null,
      "grid_row": null,
      "grid_template_areas": null,
      "grid_template_columns": null,
      "grid_template_rows": null,
      "height": null,
      "justify_content": null,
      "justify_items": null,
      "left": null,
      "margin": null,
      "max_height": null,
      "max_width": null,
      "min_height": null,
      "min_width": null,
      "object_fit": null,
      "object_position": null,
      "order": null,
      "overflow": null,
      "overflow_x": null,
      "overflow_y": null,
      "padding": null,
      "right": null,
      "top": null,
      "visibility": null,
      "width": null
     }
    },
    "e37581546b684c9ca4ffd02148d059b0": {
     "model_module": "@jupyter-widgets/base",
     "model_module_version": "1.2.0",
     "model_name": "LayoutModel",
     "state": {
      "_model_module": "@jupyter-widgets/base",
      "_model_module_version": "1.2.0",
      "_model_name": "LayoutModel",
      "_view_count": null,
      "_view_module": "@jupyter-widgets/base",
      "_view_module_version": "1.2.0",
      "_view_name": "LayoutView",
      "align_content": null,
      "align_items": null,
      "align_self": null,
      "border": null,
      "bottom": null,
      "display": null,
      "flex": null,
      "flex_flow": null,
      "grid_area": null,
      "grid_auto_columns": null,
      "grid_auto_flow": null,
      "grid_auto_rows": null,
      "grid_column": null,
      "grid_gap": null,
      "grid_row": null,
      "grid_template_areas": null,
      "grid_template_columns": null,
      "grid_template_rows": null,
      "height": null,
      "justify_content": null,
      "justify_items": null,
      "left": null,
      "margin": null,
      "max_height": null,
      "max_width": null,
      "min_height": null,
      "min_width": null,
      "object_fit": null,
      "object_position": null,
      "order": null,
      "overflow": null,
      "overflow_x": null,
      "overflow_y": null,
      "padding": null,
      "right": null,
      "top": null,
      "visibility": null,
      "width": null
     }
    },
    "ea4935dd905544a09256d37ae5af4f96": {
     "model_module": "@jupyter-widgets/controls",
     "model_module_version": "1.5.0",
     "model_name": "HTMLModel",
     "state": {
      "_dom_classes": [],
      "_model_module": "@jupyter-widgets/controls",
      "_model_module_version": "1.5.0",
      "_model_name": "HTMLModel",
      "_view_count": null,
      "_view_module": "@jupyter-widgets/controls",
      "_view_module_version": "1.5.0",
      "_view_name": "HTMLView",
      "description": "",
      "description_tooltip": null,
      "layout": "IPY_MODEL_e37581546b684c9ca4ffd02148d059b0",
      "placeholder": "​",
      "style": "IPY_MODEL_1516a4dd0cb04d369fb94ad5613db5b8",
      "value": " 1/1 [00:00&lt;00:00, 20.76it/s]"
     }
    }
   }
  }
 },
 "nbformat": 4,
 "nbformat_minor": 1
}
