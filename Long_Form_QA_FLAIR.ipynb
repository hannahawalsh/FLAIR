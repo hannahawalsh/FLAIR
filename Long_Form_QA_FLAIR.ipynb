{
 "cells": [
  {
   "cell_type": "markdown",
   "metadata": {},
   "source": [
    "<img src=\"src/pighat.png\" alt=\"drawing\" width=\"400\"/>\n",
    "<h1 style='text-align:center;'><span style='color:#46aa22;'>Financial Literacy </span><span style='color:#80d162;'>AI </span><span style='color:#46aa22;'>Resource</span></h1>\n",
    "\n",
    "---\n",
    "\n",
    "Write Summary Here\n",
    "\n",
    "Note about running in Google Colab notebook"
   ]
  },
  {
   "cell_type": "code",
   "execution_count": null,
   "metadata": {
    "id": "95gDXiyUIDQv"
   },
   "outputs": [],
   "source": [
    "# Clone the FLAIR repository\n",
    "!git clone https://github.com/hannahawalsh/FLAIR.git\n",
    "# import os\n",
    "# if \"LFQA_utils.py\" not in os.listdir() and \"FLAIR\" not in os.listdir():\n",
    "#     os.chdir(\"FLAIR\")"
   ]
  },
  {
   "cell_type": "code",
   "execution_count": null,
   "metadata": {
    "id": "DdZPayIBJrMM"
   },
   "outputs": [],
   "source": [
    "%%capture\n",
    "# Install dependencies - this takes a few moments\n",
    "!pip install transformers\n",
    "!pip install faiss_gpu\n",
    "!pip install datasets"
   ]
  },
  {
   "cell_type": "code",
   "execution_count": null,
   "metadata": {},
   "outputs": [],
   "source": [
    "# Imports \n",
    "import sys\n",
    "sys.path.insert(0, \"./FLAIR\")\n",
    "from LFQA_utils import longFormQA, wrap_print, ask_questions"
   ]
  },
  {
   "cell_type": "markdown",
   "metadata": {},
   "source": [
    "### The Long Form Question Answering Model\n",
    "A long form question answering model is an AI model that provides long, complex answers to questions. Unlike other question answering models, it does not simply pull snippets of text from a database for its answers, but synthesizes information to create one cohesive answer. It can answer more abstract questions rather than trivia-type ones.  \n",
    "\n",
    "Our model actually consists of two parts. One is the question-answer model, which pulls passages of text relating to the answer. The second is a sequence to sequence model, which forms those answers into one cohesive answer. \n",
    "\n",
    "Some of the functions used in this project are modified from the blogpost and accompanying github code [Explain _Anything_ Like I'm Five: A Model for Open Domain Long Form Question Answering](https://yjernite.github.io/lfqa.html), which goes more in depth on the technical aspects of this type of model. We applied their concepts to fit the needs of our project and apply it to the financial literacy world.  \n",
    "\n",
    "---"
   ]
  },
  {
   "cell_type": "markdown",
   "metadata": {},
   "source": [
    "#### Loading the model and the data\n",
    "Run the below cell to load the model weights and index the financial literacy dataset (if that file doesn't already exist). It might take a little bit if the data hasn't been indexed. You only need to run this cell once per session.\n",
    "\n",
    "Note: this must be run on a GPU to work. It currently doesn't support running on a CPU. If you're running this in Google Colab, don't worry; it is already set up to run on a small GPU."
   ]
  },
  {
   "cell_type": "code",
   "execution_count": null,
   "metadata": {
    "colab": {
     "base_uri": "https://localhost:8080/",
     "height": 104,
     "referenced_widgets": [
      "71022fb18a6a4a539aef3056502e9dcd",
      "5f0afe6786fd4ad39e534bf5d2fb6480",
      "41ce2071c6974832ab5f2df9c990a14a",
      "ea4935dd905544a09256d37ae5af4f96",
      "375129b50ec34c8ebe7b20966b945196",
      "d6f0070cb817423a8613d5fcce176e69",
      "0276465aeda54afba389df16edeea43d",
      "974b6f6f6d3c4174917a061ba310eaa6",
      "d0235b28ed194bdc99a86a9ca9d8e4ed",
      "e37581546b684c9ca4ffd02148d059b0",
      "1516a4dd0cb04d369fb94ad5613db5b8"
     ]
    },
    "id": "Kxh8Y7NWhUFE",
    "outputId": "fcfb8021-e6b7-46ed-801c-6805bdaf7775"
   },
   "outputs": [],
   "source": [
    "# Note: this cell takes ~2 minutes to run\n",
    "\n",
    "# Initialize our Long-Form Question-Answering class\n",
    "data_filename = \"https://github.com/hannahawalsh/FLAIR/raw/main/financial_literacy_data.csv\"\n",
    "lfqa = longFormQA(data_filename)\n",
    "\n",
    "# Load model weights from hugging face\n",
    "qa_model_name = \"yjernite/retribert-base-uncased\"\n",
    "s2s_model_name = \"yjernite/bart_eli5\"\n",
    "lfqa.load_model_weights(qa_model_name, s2s_model_name)\n",
    "\n",
    "# Create a dense index of our data if one hasn't been created yet\n",
    "lfqa.create_dense_index(batch_size=512)"
   ]
  },
  {
   "cell_type": "markdown",
   "metadata": {},
   "source": [
    "### And we're ready to roll!\n",
    "You can now ask the model questions! Try it out below.\n",
    "\n",
    "Change how the answers are formed by changing some of the custom parameters.\n",
    "\n",
    "Do note that because of the limited time and resources of the hackathon, the answers may not always make that much sense or be accurate. It also doesn't know anything about non-financial topics, so don't ask!"
   ]
  },
  {
   "cell_type": "code",
   "execution_count": null,
   "metadata": {},
   "outputs": [],
   "source": [
    "# Ask it a question\n",
    "question = \"What is a credit score?\"\n",
    "answer = lfqa.ask_a_question(Q, **model_kwargs)\n",
    "wrap_print(answer)"
   ]
  },
  {
   "cell_type": "code",
   "execution_count": null,
   "metadata": {},
   "outputs": [],
   "source": [
    "# Add some custom parameters \n",
    "max_question_len = 512\n",
    "min_answer_len = 256\n",
    "max_answer_len = 512\n",
    "question = \"What is a credit score?\"\n",
    "\n",
    "answer = lfqa.ask_a_question(Q, **model_kwargs)\n",
    "wrap_print(answer)"
   ]
  },
  {
   "cell_type": "markdown",
   "metadata": {},
   "source": [
    "---\n",
    "Below are a few more examples. Feel free to change the cells to experiment yourself. Note the model is lacking information in some areas so it doesn't answer well, or even correctly. Also watch for how the model parameters affect the answers."
   ]
  },
  {
   "cell_type": "code",
   "execution_count": null,
   "metadata": {
    "colab": {
     "base_uri": "https://localhost:8080/"
    },
    "id": "FLQbDinuhS1z",
    "outputId": "18c94d03-bba2-45aa-c6ba-9c3246094a19"
   },
   "outputs": [],
   "source": [
    "# Here's a few more examples\n",
    "kwargs = {\n",
    "    \"max_question_len\": 1024, \n",
    "    \"min_answer_len\": 64, \n",
    "    \"max_answer_len\": 512} \n",
    "\n",
    "questions = [\n",
    "    \"What is the minimum amount I need to open a bank account?\",\n",
    "    \"Is there an account for medical costs?\",\n",
    "    \"Should I save for retirement if I paid off all my bills?\",\n",
    "    \"How do I pay my bills every month?\",\n",
    "    \"What's the first thing I should do when I get out of jail?\",\n",
    "    \"Are there resources for people leaving prison?\"]\n",
    "\n",
    "ask_questions(questions, kwargs)"
   ]
  },
  {
   "cell_type": "code",
   "execution_count": null,
   "metadata": {
    "colab": {
     "base_uri": "https://localhost:8080/"
    },
    "id": "L6mX6z2nhSyy",
    "outputId": "86185e5b-1497-4505-a31c-d55cc71631c1"
   },
   "outputs": [],
   "source": [
    "# Ask those same questions but with different model parameters\n",
    "kwargs = {\n",
    "    \"max_question_len\": 256, \n",
    "    \"min_answer_len\": 32, \n",
    "    \"max_answer_len\": 256} \n",
    "ask_questions(questions, kwargs)"
   ]
  },
  {
   "cell_type": "code",
   "execution_count": null,
   "metadata": {
    "colab": {
     "base_uri": "https://localhost:8080/"
    },
    "id": "5VW2flNwyC8k",
    "outputId": "fa41da1c-85bd-423c-870b-0703b8025a3a"
   },
   "outputs": [],
   "source": [
    "# Try some more questions\n",
    "questions = [\n",
    "    \"How do I open up a bank account?\",\n",
    "    \"What do I need a bank account for?\",\n",
    "    \"Why should I open a savings account?\",\n",
    "    \"Whats the difference between a savings and checking account?\",\n",
    "    \"Whats the difference between credit and debit?\",\n",
    "]\n",
    "kwargs = {\"max_question_len\": 256, \"min_answer_len\": 32, \"max_answer_len\": 512} \n",
    "ask_questions(questions, kwargs)"
   ]
  },
  {
   "cell_type": "code",
   "execution_count": null,
   "metadata": {
    "colab": {
     "base_uri": "https://localhost:8080/"
    },
    "id": "R96g_4K5yCt_",
    "outputId": "fe1fcb38-0ee5-4c8d-9669-e968890fdef1"
   },
   "outputs": [],
   "source": [
    "# And those same ones with different parameters\n",
    "kwargs = {\"max_question_len\": 256, \"min_answer_len\": 32, \"max_answer_len\": 512} \n",
    "ask_questions(questions, kwargs)"
   ]
  },
  {
   "cell_type": "code",
   "execution_count": null,
   "metadata": {
    "colab": {
     "base_uri": "https://localhost:8080/"
    },
    "id": "Ucl3amIkhStk",
    "outputId": "a557ae0d-6d52-4ceb-8a0e-5b1075dd6904"
   },
   "outputs": [],
   "source": [
    "# These answers are using different parameters and it is clear that we \n",
    "# need to increase min_answer_len\n",
    "# When answers are too short, they aren't helpful\n",
    "kwargs = {\"max_question_len\": 1024, \"min_answer_len\": 8, \"max_answer_len\": 1024} \n",
    "questions = [\n",
    "    \"What do I do if I'm poor?\",\n",
    "    \"How do I get out of debt?\",\n",
    "    \"Can I get a credit card without a credit score?\",\n",
    "    \"How do I improve my credit score?\",\n",
    "    \"Are there bank accounts for non-citizens?\"]\n",
    "ask_questions(questions, kwargs)"
   ]
  },
  {
   "cell_type": "code",
   "execution_count": null,
   "metadata": {
    "id": "kJtiHabwunYQ"
   },
   "outputs": [],
   "source": []
  }
 ],
 "metadata": {
  "accelerator": "GPU",
  "colab": {
   "authorship_tag": "ABX9TyNmJkrV25gdD1NYg/RrcZtp",
   "collapsed_sections": [],
   "include_colab_link": true,
   "name": "Long_Form_QA_model_trials.ipynb",
   "provenance": []
  },
  "kernelspec": {
   "display_name": "Python 3",
   "language": "python",
   "name": "python3"
  },
  "language_info": {
   "codemirror_mode": {
    "name": "ipython",
    "version": 3
   },
   "file_extension": ".py",
   "mimetype": "text/x-python",
   "name": "python",
   "nbconvert_exporter": "python",
   "pygments_lexer": "ipython3",
   "version": "3.8.5"
  },
  "widgets": {
   "application/vnd.jupyter.widget-state+json": {
    "0276465aeda54afba389df16edeea43d": {
     "model_module": "@jupyter-widgets/controls",
     "model_module_version": "1.5.0",
     "model_name": "DescriptionStyleModel",
     "state": {
      "_model_module": "@jupyter-widgets/controls",
      "_model_module_version": "1.5.0",
      "_model_name": "DescriptionStyleModel",
      "_view_count": null,
      "_view_module": "@jupyter-widgets/base",
      "_view_module_version": "1.2.0",
      "_view_name": "StyleView",
      "description_width": ""
     }
    },
    "1516a4dd0cb04d369fb94ad5613db5b8": {
     "model_module": "@jupyter-widgets/controls",
     "model_module_version": "1.5.0",
     "model_name": "DescriptionStyleModel",
     "state": {
      "_model_module": "@jupyter-widgets/controls",
      "_model_module_version": "1.5.0",
      "_model_name": "DescriptionStyleModel",
      "_view_count": null,
      "_view_module": "@jupyter-widgets/base",
      "_view_module_version": "1.2.0",
      "_view_name": "StyleView",
      "description_width": ""
     }
    },
    "375129b50ec34c8ebe7b20966b945196": {
     "model_module": "@jupyter-widgets/base",
     "model_module_version": "1.2.0",
     "model_name": "LayoutModel",
     "state": {
      "_model_module": "@jupyter-widgets/base",
      "_model_module_version": "1.2.0",
      "_model_name": "LayoutModel",
      "_view_count": null,
      "_view_module": "@jupyter-widgets/base",
      "_view_module_version": "1.2.0",
      "_view_name": "LayoutView",
      "align_content": null,
      "align_items": null,
      "align_self": null,
      "border": null,
      "bottom": null,
      "display": null,
      "flex": null,
      "flex_flow": null,
      "grid_area": null,
      "grid_auto_columns": null,
      "grid_auto_flow": null,
      "grid_auto_rows": null,
      "grid_column": null,
      "grid_gap": null,
      "grid_row": null,
      "grid_template_areas": null,
      "grid_template_columns": null,
      "grid_template_rows": null,
      "height": null,
      "justify_content": null,
      "justify_items": null,
      "left": null,
      "margin": null,
      "max_height": null,
      "max_width": null,
      "min_height": null,
      "min_width": null,
      "object_fit": null,
      "object_position": null,
      "order": null,
      "overflow": null,
      "overflow_x": null,
      "overflow_y": null,
      "padding": null,
      "right": null,
      "top": null,
      "visibility": null,
      "width": null
     }
    },
    "41ce2071c6974832ab5f2df9c990a14a": {
     "model_module": "@jupyter-widgets/controls",
     "model_module_version": "1.5.0",
     "model_name": "FloatProgressModel",
     "state": {
      "_dom_classes": [],
      "_model_module": "@jupyter-widgets/controls",
      "_model_module_version": "1.5.0",
      "_model_name": "FloatProgressModel",
      "_view_count": null,
      "_view_module": "@jupyter-widgets/controls",
      "_view_module_version": "1.5.0",
      "_view_name": "ProgressView",
      "bar_style": "success",
      "description": "",
      "description_tooltip": null,
      "layout": "IPY_MODEL_974b6f6f6d3c4174917a061ba310eaa6",
      "max": 1,
      "min": 0,
      "orientation": "horizontal",
      "style": "IPY_MODEL_d0235b28ed194bdc99a86a9ca9d8e4ed",
      "value": 1
     }
    },
    "5f0afe6786fd4ad39e534bf5d2fb6480": {
     "model_module": "@jupyter-widgets/controls",
     "model_module_version": "1.5.0",
     "model_name": "HTMLModel",
     "state": {
      "_dom_classes": [],
      "_model_module": "@jupyter-widgets/controls",
      "_model_module_version": "1.5.0",
      "_model_name": "HTMLModel",
      "_view_count": null,
      "_view_module": "@jupyter-widgets/controls",
      "_view_module_version": "1.5.0",
      "_view_name": "HTMLView",
      "description": "",
      "description_tooltip": null,
      "layout": "IPY_MODEL_d6f0070cb817423a8613d5fcce176e69",
      "placeholder": "​",
      "style": "IPY_MODEL_0276465aeda54afba389df16edeea43d",
      "value": "100%"
     }
    },
    "71022fb18a6a4a539aef3056502e9dcd": {
     "model_module": "@jupyter-widgets/controls",
     "model_module_version": "1.5.0",
     "model_name": "HBoxModel",
     "state": {
      "_dom_classes": [],
      "_model_module": "@jupyter-widgets/controls",
      "_model_module_version": "1.5.0",
      "_model_name": "HBoxModel",
      "_view_count": null,
      "_view_module": "@jupyter-widgets/controls",
      "_view_module_version": "1.5.0",
      "_view_name": "HBoxView",
      "box_style": "",
      "children": [
       "IPY_MODEL_5f0afe6786fd4ad39e534bf5d2fb6480",
       "IPY_MODEL_41ce2071c6974832ab5f2df9c990a14a",
       "IPY_MODEL_ea4935dd905544a09256d37ae5af4f96"
      ],
      "layout": "IPY_MODEL_375129b50ec34c8ebe7b20966b945196"
     }
    },
    "974b6f6f6d3c4174917a061ba310eaa6": {
     "model_module": "@jupyter-widgets/base",
     "model_module_version": "1.2.0",
     "model_name": "LayoutModel",
     "state": {
      "_model_module": "@jupyter-widgets/base",
      "_model_module_version": "1.2.0",
      "_model_name": "LayoutModel",
      "_view_count": null,
      "_view_module": "@jupyter-widgets/base",
      "_view_module_version": "1.2.0",
      "_view_name": "LayoutView",
      "align_content": null,
      "align_items": null,
      "align_self": null,
      "border": null,
      "bottom": null,
      "display": null,
      "flex": null,
      "flex_flow": null,
      "grid_area": null,
      "grid_auto_columns": null,
      "grid_auto_flow": null,
      "grid_auto_rows": null,
      "grid_column": null,
      "grid_gap": null,
      "grid_row": null,
      "grid_template_areas": null,
      "grid_template_columns": null,
      "grid_template_rows": null,
      "height": null,
      "justify_content": null,
      "justify_items": null,
      "left": null,
      "margin": null,
      "max_height": null,
      "max_width": null,
      "min_height": null,
      "min_width": null,
      "object_fit": null,
      "object_position": null,
      "order": null,
      "overflow": null,
      "overflow_x": null,
      "overflow_y": null,
      "padding": null,
      "right": null,
      "top": null,
      "visibility": null,
      "width": null
     }
    },
    "d0235b28ed194bdc99a86a9ca9d8e4ed": {
     "model_module": "@jupyter-widgets/controls",
     "model_module_version": "1.5.0",
     "model_name": "ProgressStyleModel",
     "state": {
      "_model_module": "@jupyter-widgets/controls",
      "_model_module_version": "1.5.0",
      "_model_name": "ProgressStyleModel",
      "_view_count": null,
      "_view_module": "@jupyter-widgets/base",
      "_view_module_version": "1.2.0",
      "_view_name": "StyleView",
      "bar_color": null,
      "description_width": ""
     }
    },
    "d6f0070cb817423a8613d5fcce176e69": {
     "model_module": "@jupyter-widgets/base",
     "model_module_version": "1.2.0",
     "model_name": "LayoutModel",
     "state": {
      "_model_module": "@jupyter-widgets/base",
      "_model_module_version": "1.2.0",
      "_model_name": "LayoutModel",
      "_view_count": null,
      "_view_module": "@jupyter-widgets/base",
      "_view_module_version": "1.2.0",
      "_view_name": "LayoutView",
      "align_content": null,
      "align_items": null,
      "align_self": null,
      "border": null,
      "bottom": null,
      "display": null,
      "flex": null,
      "flex_flow": null,
      "grid_area": null,
      "grid_auto_columns": null,
      "grid_auto_flow": null,
      "grid_auto_rows": null,
      "grid_column": null,
      "grid_gap": null,
      "grid_row": null,
      "grid_template_areas": null,
      "grid_template_columns": null,
      "grid_template_rows": null,
      "height": null,
      "justify_content": null,
      "justify_items": null,
      "left": null,
      "margin": null,
      "max_height": null,
      "max_width": null,
      "min_height": null,
      "min_width": null,
      "object_fit": null,
      "object_position": null,
      "order": null,
      "overflow": null,
      "overflow_x": null,
      "overflow_y": null,
      "padding": null,
      "right": null,
      "top": null,
      "visibility": null,
      "width": null
     }
    },
    "e37581546b684c9ca4ffd02148d059b0": {
     "model_module": "@jupyter-widgets/base",
     "model_module_version": "1.2.0",
     "model_name": "LayoutModel",
     "state": {
      "_model_module": "@jupyter-widgets/base",
      "_model_module_version": "1.2.0",
      "_model_name": "LayoutModel",
      "_view_count": null,
      "_view_module": "@jupyter-widgets/base",
      "_view_module_version": "1.2.0",
      "_view_name": "LayoutView",
      "align_content": null,
      "align_items": null,
      "align_self": null,
      "border": null,
      "bottom": null,
      "display": null,
      "flex": null,
      "flex_flow": null,
      "grid_area": null,
      "grid_auto_columns": null,
      "grid_auto_flow": null,
      "grid_auto_rows": null,
      "grid_column": null,
      "grid_gap": null,
      "grid_row": null,
      "grid_template_areas": null,
      "grid_template_columns": null,
      "grid_template_rows": null,
      "height": null,
      "justify_content": null,
      "justify_items": null,
      "left": null,
      "margin": null,
      "max_height": null,
      "max_width": null,
      "min_height": null,
      "min_width": null,
      "object_fit": null,
      "object_position": null,
      "order": null,
      "overflow": null,
      "overflow_x": null,
      "overflow_y": null,
      "padding": null,
      "right": null,
      "top": null,
      "visibility": null,
      "width": null
     }
    },
    "ea4935dd905544a09256d37ae5af4f96": {
     "model_module": "@jupyter-widgets/controls",
     "model_module_version": "1.5.0",
     "model_name": "HTMLModel",
     "state": {
      "_dom_classes": [],
      "_model_module": "@jupyter-widgets/controls",
      "_model_module_version": "1.5.0",
      "_model_name": "HTMLModel",
      "_view_count": null,
      "_view_module": "@jupyter-widgets/controls",
      "_view_module_version": "1.5.0",
      "_view_name": "HTMLView",
      "description": "",
      "description_tooltip": null,
      "layout": "IPY_MODEL_e37581546b684c9ca4ffd02148d059b0",
      "placeholder": "​",
      "style": "IPY_MODEL_1516a4dd0cb04d369fb94ad5613db5b8",
      "value": " 1/1 [00:00&lt;00:00, 20.76it/s]"
     }
    }
   }
  }
 },
 "nbformat": 4,
 "nbformat_minor": 1
}
