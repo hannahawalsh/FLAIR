{
 "cells": [
  {
   "cell_type": "markdown",
   "metadata": {},
   "source": [
    "# Gathering Data for FLAIR (Financial Literacy AI Resource)\n",
    "---\n",
    "FLAIR answers questions using a financial literacy text dataset. In this notebook, we will go through creating that dataset. The hackathon has time and resource limitations, so the data set is rather small. Any product that would be built would have a much greater volume of information.  \n",
    "\n",
    "FLAIR only uses information that has been published by the U.S. government in order to avoid problems such as advertising, bias, opinions, and false claims - all of which are possible, if not likely, in a simple Google search.  \n",
    "\n",
    "Data is created in \"chunks\" of around 100 words. The dataset is a list of dictionaries that have the form  \n",
    "```\n",
    "{\n",
    "    \"_id\": int,\n",
    "    \"source_title\": str,\n",
    "    \"source_filename\": str,\n",
    "    \"source_url\" : str,\n",
    "    \"section_title\": str,\n",
    "    \"passage_text\": str\n",
    "}\n",
    "```"
   ]
  },
  {
   "cell_type": "markdown",
   "metadata": {},
   "source": [
    "---\n",
    "## Data source: CFPB\n",
    "<img src=\"https://upload.wikimedia.org/wikipedia/commons/b/bb/CFPB_logo.svg\" alt=\"drawing\" width=\"300\"/>\n",
    "\n",
    "The Consumer Financial Protection Bureau, or CFPB, is an agency of the U.S. government that is responsible for consumer protection in the financial sector. In short, their aim is to make sure people are treated fairly by banks, lenders and other financial institutions. Their website has a plethera of informations for consumers, as broad as \"buying a house\" or as specific as \"tips when using mobile devices for financial services.\"  \n",
    "\n",
    "Here we pull an extremely small amount of information provided by the CFPB around financial literacy. Read more about the CFPB and access additional resources on their website at https://www.consumerfinance.gov/"
   ]
  },
  {
   "cell_type": "markdown",
   "metadata": {},
   "source": [
    "### Your Money, Your Goals\n",
    "The [Your Money, Your Goals Toolkit](https://www.consumerfinance.gov/consumer-tools/educator-tools/your-money-your-goals/toolkit/) has information on a wide range of money issues. The information is intended to help people make smart spending decisions, fix credit reports, keep track of bills, and more. Basically, it is a broad overview of financial literacy. \n",
    "\n",
    "The cfpb also publishes [companion guides](https://www.consumerfinance.gov/consumer-tools/educator-tools/your-money-your-goals/companion-guides/) to the Your Money, Your Goals toolkit designed to help specific populations. Currently, they publish a companion guide for the military community, native communities, people with disabilities, and people with criminal records.  \n",
    "\n",
    "Let's download, parse, and format the text data contained in the PDF publications."
   ]
  },
  {
   "cell_type": "code",
   "execution_count": 1,
   "metadata": {},
   "outputs": [],
   "source": [
    "### Imports\n",
    "from parse_FL_pdfs import parsePDF\n",
    "\n",
    "\n",
    "# Initialize the list that will hold the text data\n",
    "financial_literacy = list()"
   ]
  },
  {
   "cell_type": "code",
   "execution_count": 2,
   "metadata": {},
   "outputs": [
    {
     "name": "stdout",
     "output_type": "stream",
     "text": [
      "\n",
      "A freeze helps prevent identity thieves from opening fraudulent accounts in your name. This also means you won't be able to apply for credit as easily if you were planning to open a new account or apply for a loan. You must contact each of the credit reporting companies to freeze your credit report. You will have to contact them to lift the freeze before a third-party can access your credit report. An initial fraud alert requires creditors to verify your identity before opening a new account, issuing an additional card, or increasing the credit limit on an existing account. This is a good first step if you're worried that your identity may be stolen, like after a data breach. The alert lasts for one year and can be renewed after it expires.\n"
     ]
    }
   ],
   "source": [
    "# The main Your Money, Your Goals Toolkit document\n",
    "pdf_name = \"cfpb_your-money-your-goals_financial-empowerment_toolkit.pdf\"\n",
    "download_url = f\"https://www.consumerfinance.gov/documents/8956/{pdf_name}\"\n",
    "\n",
    "# Use the PDF parser\n",
    "PP = parsePDF(download_url, pdf_name)\n",
    "raw_text = PP.extract_contents(start_regex=r\"MODULE 1\\s+\", download=True)  # Skip the intro\n",
    "clean_text = PP.clean_text(specific=\"cfpb_ymyg\")\n",
    "text_data = PP.get_text_data(chapter_regex=r\"MODULE [0-9].+\", starting_id=0)\n",
    "financial_literacy.extend(text_data)\n",
    "\n",
    "# Look at a sample of the extracted text\n",
    "print(\"\\n\" + financial_literacy[-10][\"passage_text\"])"
   ]
  },
  {
   "cell_type": "code",
   "execution_count": 3,
   "metadata": {},
   "outputs": [
    {
     "name": "stdout",
     "output_type": "stream",
     "text": [
      "\n",
      "Preventing elder financial exploitation takes a coordinated community response that includes engaging elders, the people who provide direct services to elders, community leaders, and law enforcement responders. Use this tool and to start engaging community members in protecting elders. the tool contains both strategies for communities to use and actions for elders and their trusted family members to take. taking action at both levels will contribute to a safer community for elders. What to do Identify the steps you can take to prevent elder financial exploitation. these steps. may be different if you are an elder, a family member or caregiver, a community member, or a tribal leader. Check the step when it's completed. To access a dynamic and fillable version of this tool, visit:  consumerfinance. gov/practitioner-resources/your-money-your-goals/companion-guides.\n"
     ]
    }
   ],
   "source": [
    "# The Your Money, Your Goals companion guides\n",
    "companion_pdfs = [\n",
    "    \"cfpb_ymyg-servicemembers-companion-guide.pdf\",     # military\n",
    "    \"cfpb_ymyg_focus-on-people-with-disabilities.pdf\",  # disabilities\n",
    "    \"cfpb_ymyg_reentry_supplement.pdf\",                 # criminal justice reentry\n",
    "    \"cfpb_ymyg_focus-on-native-communities.pdf\"         # native communities\n",
    "]\n",
    "for pdf_name in companion_pdfs:\n",
    "    download_url = f\"https://files.consumerfinance.gov/f/documents/{pdf_name}\"\n",
    "    starting_id = max([d[\"_id\"] for d in financial_literacy]) + 1\n",
    "\n",
    "    PP = parsePDF(download_url, pdf_name)\n",
    "    raw_text = PP.extract_contents(start_regex=r\"MODULE 1\\s+\", download=True)\n",
    "    clean_text = PP.clean_text(specific=\"cfpb_ymyg\")\n",
    "    text_data = PP.get_text_data(chapter_regex=r\"MODULE [0-9].+\", starting_id=starting_id)\n",
    "    financial_literacy.extend(text_data)\n",
    "    \n",
    "print(\"\\n\" + financial_literacy[-10][\"passage_text\"])"
   ]
  },
  {
   "cell_type": "markdown",
   "metadata": {},
   "source": [
    "### Tools and Resources for Newcomers\n",
    "There are [tools and resources](https://www.consumerfinance.gov/consumer-tools/educator-tools/adult-financial-education/tools-and-resources/#newcomers) available from the CFPB for many different topics. Here, we download information designed to help the 41 million+ immigrants in America. We will download resources about opening a bank account, selecting financial products and services, how to pay your bills, and ways to receive your money.\n",
    "\n",
    "Let's download, parse, and format the text data contained in the PDF publications."
   ]
  },
  {
   "cell_type": "code",
   "execution_count": 4,
   "metadata": {},
   "outputs": [
    {
     "name": "stdout",
     "output_type": "stream",
     "text": [
      "\n",
      "Credit card. Definition Benefits Risks A credit card allows you to borrow money up to an approved credit limit. You will pay interest if you carry a balance, and you can be charged other fees based on the terms of the contract. You can expect to make a minimum monthly payment and you may want to pay more than the minimum to pay it off sooner. Can use a credit card to pay bills over the phone or online. Easy to prove payment should a dispute arise. Protects you from having to pay for some or all the charges if your card or information is stolen or lost and you report the theft. Can be set up to automatically pay recurring bills. Can help build your credit history if you make payments on time and don't get close to your credit limit. Costs more than paying for the purchase with cash or a check if you can't pay the credit card balance in full every month. If you carry a balance, you have to pay interest on the balance. Creates another bill you have to pay. Creates debtyou are borrowing money to pay for bills and other items.\n"
     ]
    }
   ],
   "source": [
    "# Resources for newcomers\n",
    "newcomers_documents = [\n",
    "    \"cfpb_adult-fin-ed_checklist-for-opening-an-account.pdf\",\n",
    "    \"cfpb_adult-fin-ed_selecting-financial-products-and-services.pdf\",\n",
    "    \"201507_cfpb_ways-to-pay-your-bills.pdf\",\n",
    "    \"201507_cfpb_ways-to-receive-your-money.pdf\"]\n",
    "for pdf_name in newcomers_documents:\n",
    "    base_url = \"https://files.consumerfinance.gov/f/\"\n",
    "    if pdf_name[0].isdigit():\n",
    "        download_url = base_url + pdf_name\n",
    "    else:\n",
    "        download_url = base_url + \"documents/\" + pdf_name\n",
    "    starting_id = max([d[\"_id\"] for d in financial_literacy]) + 1\n",
    "\n",
    "    PP = parsePDF(download_url, pdf_name)\n",
    "    raw_text = PP.extract_contents(download=True)\n",
    "    clean_text = PP.clean_text()\n",
    "    text_data = PP.get_text_data(starting_id=starting_id)\n",
    "    financial_literacy.extend(text_data)\n",
    "    \n",
    "print(\"\\n\" + financial_literacy[-10][\"passage_text\"])"
   ]
  },
  {
   "cell_type": "markdown",
   "metadata": {},
   "source": [
    "### Money Management\n",
    "Another section of the [tools and resources](https://www.consumerfinance.gov/consumer-tools/educator-tools/adult-financial-education/tools-and-resources/#money-management) is money management. We will download resources about overdraft options, gift cards, managing spending, managing cash flow, making financial decisions, and organizing finances. These resources are all short, quick overviews that are 1-2 pages.\n",
    "\n",
    "Let's download, parse, and format the text data contained in the PDF publications."
   ]
  },
  {
   "cell_type": "code",
   "execution_count": 5,
   "metadata": {},
   "outputs": [
    {
     "name": "stdout",
     "output_type": "stream",
     "text": [
      "\n",
      "Ask; Ask questions about costs and risks. Keep asking more questions until you're sure you understand what you're payingand what you're getting. How much does this cost now? How much will it cost over time? Are there fees, taxes, penalties, or other charges? When do those apply? How do I avoid paying for extra services or add-ons if I don't want them? Can I cancel and get my money back? What's the deadline for canceling? How does the salesperson or company make money from me? Am I comfortable with that? What payment options do I have? Can I adjust my payment date? What's the worst-case scenario? How much money can I lose? How high can the cost of using the product go?\n"
     ]
    }
   ],
   "source": [
    "# The Your Money, Your Goals companion guides\n",
    "money_management_pdfs = [\n",
    "    \"cfpb_adult-fin-ed_know-your-overdraft-options.pdf\",\n",
    "    \"cfpb_adult-fin-ed_unwrapping-gift-cards-avoid-surprises.pdf\",\n",
    "    \"201702_cfpb_Managing-Spending-Ideas-for-Financial-Educators.pdf\",\n",
    "    \"201702_cfpb_Consumer-Tips-on-Managing-Spending.pdf\", \n",
    "    \"cfpb_adult-fin-ed_managing-cash-flow-and-bill-payments.pdf\",\n",
    "    \"cfpb_adult-fin-ed_five-steps-for-making-financial-decisions.pdf\",\n",
    "    \"cfpb_fin-ed-digest_organizing-finances.pdf\"\n",
    "]\n",
    "for pdf_name in money_management_pdfs:\n",
    "    download_url = f\"https://files.consumerfinance.gov/f/documents/{pdf_name}\"\n",
    "    starting_id = max([d[\"_id\"] for d in financial_literacy]) + 1\n",
    "\n",
    "    PP = parsePDF(download_url, pdf_name)\n",
    "    raw_text = PP.extract_contents(download=True)\n",
    "    clean_text = PP.clean_text()\n",
    "    text_data = PP.get_text_data(starting_id=starting_id)\n",
    "    financial_literacy.extend(text_data)\n",
    "    \n",
    "print(\"\\n\" + financial_literacy[-10][\"passage_text\"])"
   ]
  },
  {
   "cell_type": "code",
   "execution_count": null,
   "metadata": {},
   "outputs": [],
   "source": []
  },
  {
   "cell_type": "markdown",
   "metadata": {},
   "source": [
    "---\n",
    "## Saving our Data\n",
    "Now, all we have to do is save our data as a csv file. We will use pandas to make this easier and give us a preview of what our data looks like"
   ]
  },
  {
   "cell_type": "code",
   "execution_count": 6,
   "metadata": {},
   "outputs": [
    {
     "name": "stdout",
     "output_type": "stream",
     "text": [
      "1,049 passages\n",
      "\n",
      "\n"
     ]
    },
    {
     "data": {
      "text/html": [
       "<div>\n",
       "<style scoped>\n",
       "    .dataframe tbody tr th:only-of-type {\n",
       "        vertical-align: middle;\n",
       "    }\n",
       "\n",
       "    .dataframe tbody tr th {\n",
       "        vertical-align: top;\n",
       "    }\n",
       "\n",
       "    .dataframe thead th {\n",
       "        text-align: right;\n",
       "    }\n",
       "</style>\n",
       "<table border=\"1\" class=\"dataframe\">\n",
       "  <thead>\n",
       "    <tr style=\"text-align: right;\">\n",
       "      <th></th>\n",
       "      <th>source_title</th>\n",
       "      <th>section_title</th>\n",
       "      <th>passage_text</th>\n",
       "    </tr>\n",
       "  </thead>\n",
       "  <tbody>\n",
       "    <tr>\n",
       "      <th>1043</th>\n",
       "      <td>Organizing and managing finances</td>\n",
       "      <td>main</td>\n",
       "      <td>Exploring the causes Research shows that consumers have many reasons for their actions. To gain insight into why it's so hard for consumers to organize and manage their financial lives, consider these factors. All or nothing; When planning seems too hard, many consumers feel overwhelmed. They don't know how to start. They don't want to fail, so many don't even begin. Putting today first; Consumers struggle to prioritize their spending. They may buy on impulse, even as they intend to set aside money for longer-term goals. Under financial stress, it's hard to see beyond immediate needs and easy to ignore long-term costs.</td>\n",
       "    </tr>\n",
       "    <tr>\n",
       "      <th>361</th>\n",
       "      <td>YOUR MONEY, YOUR GOALS: A financial empowerment toolkit</td>\n",
       "      <td>MODULE 8: .  Choosing  Financial Products and Services</td>\n",
       "      <td>Can I choose my own due date for the loan payments? Can I choose the length of the loan? How long do I have to repay the loan? If I make all of the payments on time, will I still owe any money at the end of the loan? Other For money transfer services. QUESTIONS TO ASK COMPANY 1 COMPANY 2. Fees and other costs. How much are fees, taxes, or costs for exchanging currencies? What is the total amount that the person I am sending money to will get? What ways can I pay for the transfer? Services offered. How convenient is it for the recipient to receive the funds?</td>\n",
       "    </tr>\n",
       "    <tr>\n",
       "      <th>262</th>\n",
       "      <td>YOUR MONEY, YOUR GOALS: A financial empowerment toolkit</td>\n",
       "      <td>MODULE 7: .  Understanding Credit Reports and Scores</td>\n",
       "      <td>Date filed: 4/14/2017 Amount: $4, Type: Civil Judgment Responsibility: Individual Plaintiff: Bank of Big City Plaintiff attorney: Lisa Perry. Collections Reliable collections ( Account #3629. Original creditor: ABC Megastore Amount placed: $2, Opened: 7/2/2018 Account type: Open. Balance: $1, Responsibility: Individual INCLUDES: Financial public records such as consumer bankruptcies, judgments, state and federal tax liens. DOESN'T INCLUDE: Records of arrests or convictions (specialty consumer reports, such as employment background screenings, often include arrests and convictions); Marriage records or adoptions Civil suits that haven't resulted in judgments. TERMS IN THIS SECTION: Chapter 7 bankruptcy Chapter 13 bankruptcy; Discharge. The three nationwide credit reporting companies are required to ensure that new and existing public record information that they use comes from sources that include specific information about you. This includes your name, address, and either your Social Security number or date of birth. This is to help keep the information accurate. The credit reporting companies update this every 90 days.</td>\n",
       "    </tr>\n",
       "    <tr>\n",
       "      <th>268</th>\n",
       "      <td>YOUR MONEY, YOUR GOALS: A financial empowerment toolkit</td>\n",
       "      <td>MODULE 7: .  Understanding Credit Reports and Scores</td>\n",
       "      <td>Inquiries made to your account. Inquiries that display to others The following companies have received your credit report. Auto Loan Store President Lane, Big City, WI 43529. Requested on: 6/2019. Super Store First Street, Anytown, IA 78691. Requested on: 12/2018. Promotional inquiries The following companies received your name, address and other limited information about you so they could make a firm offer of credit or insurance. They did not receive your full credit report. These are not displayed to others and do not affect your credit scores. Dress for Success Fashion House Fashion Lane, Big City, WI 43530. Requested on: 7/2019.</td>\n",
       "    </tr>\n",
       "  </tbody>\n",
       "</table>\n",
       "</div>"
      ],
      "text/plain": [
       "                                                 source_title  \\\n",
       "1043                         Organizing and managing finances   \n",
       "361   YOUR MONEY, YOUR GOALS: A financial empowerment toolkit   \n",
       "262   YOUR MONEY, YOUR GOALS: A financial empowerment toolkit   \n",
       "268   YOUR MONEY, YOUR GOALS: A financial empowerment toolkit   \n",
       "\n",
       "                                               section_title  \\\n",
       "1043                                                    main   \n",
       "361   MODULE 8: .  Choosing  Financial Products and Services   \n",
       "262     MODULE 7: .  Understanding Credit Reports and Scores   \n",
       "268     MODULE 7: .  Understanding Credit Reports and Scores   \n",
       "\n",
       "                                                                                                                                                                                                                                                                                                                                                                                                                                                                                                                                                                                                                                                                                                                                                                                                                                                                                                                                                                                                                                                                                                                                                                           passage_text  \n",
       "1043                                                                                                                                                                                                                                                                                                                                                                                                                                                                                                                                 Exploring the causes Research shows that consumers have many reasons for their actions. To gain insight into why it's so hard for consumers to organize and manage their financial lives, consider these factors. All or nothing; When planning seems too hard, many consumers feel overwhelmed. They don't know how to start. They don't want to fail, so many don't even begin. Putting today first; Consumers struggle to prioritize their spending. They may buy on impulse, even as they intend to set aside money for longer-term goals. Under financial stress, it's hard to see beyond immediate needs and easy to ignore long-term costs.  \n",
       "361                                                                                                                                                                                                                                                                                                                                                                                                                                                                                                                                                                                                 Can I choose my own due date for the loan payments? Can I choose the length of the loan? How long do I have to repay the loan? If I make all of the payments on time, will I still owe any money at the end of the loan? Other For money transfer services. QUESTIONS TO ASK COMPANY 1 COMPANY 2. Fees and other costs. How much are fees, taxes, or costs for exchanging currencies? What is the total amount that the person I am sending money to will get? What ways can I pay for the transfer? Services offered. How convenient is it for the recipient to receive the funds?  \n",
       "262   Date filed: 4/14/2017 Amount: $4, Type: Civil Judgment Responsibility: Individual Plaintiff: Bank of Big City Plaintiff attorney: Lisa Perry. Collections Reliable collections ( Account #3629. Original creditor: ABC Megastore Amount placed: $2, Opened: 7/2/2018 Account type: Open. Balance: $1, Responsibility: Individual INCLUDES: Financial public records such as consumer bankruptcies, judgments, state and federal tax liens. DOESN'T INCLUDE: Records of arrests or convictions (specialty consumer reports, such as employment background screenings, often include arrests and convictions); Marriage records or adoptions Civil suits that haven't resulted in judgments. TERMS IN THIS SECTION: Chapter 7 bankruptcy Chapter 13 bankruptcy; Discharge. The three nationwide credit reporting companies are required to ensure that new and existing public record information that they use comes from sources that include specific information about you. This includes your name, address, and either your Social Security number or date of birth. This is to help keep the information accurate. The credit reporting companies update this every 90 days.  \n",
       "268                                                                                                                                                                                                                                                                                                                                                                                                                                                                                                                    Inquiries made to your account. Inquiries that display to others The following companies have received your credit report. Auto Loan Store President Lane, Big City, WI 43529. Requested on: 6/2019. Super Store First Street, Anytown, IA 78691. Requested on: 12/2018. Promotional inquiries The following companies received your name, address and other limited information about you so they could make a firm offer of credit or insurance. They did not receive your full credit report. These are not displayed to others and do not affect your credit scores. Dress for Success Fashion House Fashion Lane, Big City, WI 43530. Requested on: 7/2019.  "
      ]
     },
     "execution_count": 6,
     "metadata": {},
     "output_type": "execute_result"
    }
   ],
   "source": [
    "import pandas as pd\n",
    "pd.set_option(\"display.max_colwidth\", None)\n",
    "\n",
    "# Make dataframe\n",
    "flair_df = pd.DataFrame(financial_literacy)\n",
    "\n",
    "# How much data do we have?\n",
    "print(f\"{len(flair_df):,d} passages\\n\\n\")\n",
    "\n",
    "# View a sample of 4 entries\n",
    "flair_df[[\"source_title\", \"section_title\", \"passage_text\"]].sample(4)"
   ]
  },
  {
   "cell_type": "code",
   "execution_count": 7,
   "metadata": {},
   "outputs": [],
   "source": [
    "# Save it to a pipe-deliminated csv file\n",
    "save_name = \"financial_literacy_data.csv\"\n",
    "flair_df.to_csv(save_name, index=False, sep=\"|\")"
   ]
  }
 ],
 "metadata": {
  "kernelspec": {
   "display_name": "Python 3",
   "language": "python",
   "name": "python3"
  },
  "language_info": {
   "codemirror_mode": {
    "name": "ipython",
    "version": 3
   },
   "file_extension": ".py",
   "mimetype": "text/x-python",
   "name": "python",
   "nbconvert_exporter": "python",
   "pygments_lexer": "ipython3",
   "version": "3.8.5"
  }
 },
 "nbformat": 4,
 "nbformat_minor": 4
}
