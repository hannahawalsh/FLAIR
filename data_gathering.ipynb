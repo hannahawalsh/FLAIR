{
 "cells": [
  {
   "cell_type": "markdown",
   "metadata": {},
   "source": [
    "# Gathering Data for FLAIR (Financial Literacy AI Resource)\n",
    "---\n",
    "FLAIR answers questions using a financial literacy text dataset. In this notebook, we will go through creating that dataset. The hackathon has time and resource limitations, so the data set is rather small. Any product that would be built would have a much greater volume of information.  \n",
    "\n",
    "FLAIR only uses information that has been published by the U.S. government in order to avoid problems such as advertising, bias, opinions, and false claims - all of which are possible, if not likely, in a simple Google search.  \n",
    "\n",
    "Data is created in \"chunks\" of around 100 words. The dataset is a list of dictionaries that have the form  \n",
    "```\n",
    "{\n",
    "    \"_id\": int,\n",
    "    \"source_title\": str,\n",
    "    \"source_filename\": str,\n",
    "    \"source_url\" : str,\n",
    "    \"section_title\": str,\n",
    "    \"passage_text\": str\n",
    "}\n",
    "```"
   ]
  },
  {
   "cell_type": "markdown",
   "metadata": {},
   "source": [
    "---\n",
    "## Data source: CFPB\n",
    "<img src=\"https://upload.wikimedia.org/wikipedia/commons/b/bb/CFPB_logo.svg\" alt=\"drawing\" width=\"300\"/>\n",
    "\n",
    "The Consumer Financial Protection Bureau, or CFPB, is an agency of the U.S. government that is responsible for consumer protection in the financial sector. In short, their aim is to make sure people are treated fairly by banks, lenders and other financial institutions. Their website has a plethera of informations for consumers, as broad as \"buying a house\" or as specific as \"tips when using mobile devices for financial services.\"  \n",
    "\n",
    "Here we pull an extremely small amount of information provided by the CFPB around financial literacy. Read more about the CFPB and access additional resources on their website at https://www.consumerfinance.gov/"
   ]
  },
  {
   "cell_type": "markdown",
   "metadata": {},
   "source": [
    "### Your Money, Your Goals\n",
    "The [Your Money, Your Goals Toolkit](https://www.consumerfinance.gov/consumer-tools/educator-tools/your-money-your-goals/toolkit/) has information on a wide range of money issues. The information is intended to help people make smart spending decisions, fix credit reports, keep track of bills, and more. Basically, it is a broad overview of financial literacy. \n",
    "\n",
    "The cfpb also publishes [companion guides](https://www.consumerfinance.gov/consumer-tools/educator-tools/your-money-your-goals/companion-guides/) to the Your Money, Your Goals toolkit designed to help specific populations. Currently, they publish a companion guide for the military community, native communities, people with disabilities, and people with criminal records.  \n",
    "\n",
    "Let's download, parse, and format the text data contained in the PDF publications."
   ]
  },
  {
   "cell_type": "code",
   "execution_count": 1,
   "metadata": {},
   "outputs": [],
   "source": [
    "### Imports\n",
    "from parse_FL_pdfs import parsePDF\n",
    "\n",
    "\n",
    "# Initialize the list that will hold the text data\n",
    "financial_literacy = list()"
   ]
  },
  {
   "cell_type": "code",
   "execution_count": 2,
   "metadata": {},
   "outputs": [
    {
     "name": "stdout",
     "output_type": "stream",
     "text": [
      "\n",
      "A freeze helps prevent identity thieves from opening fraudulent accounts in your name. This also means you won't be able to apply for credit as easily if you were planning to open a new account or apply for a loan. You must contact each of the credit reporting companies to freeze your credit report. You will have to contact them to lift the freeze before a third-party can access your credit report. An initial fraud alert requires creditors to verify your identity before opening a new account, issuing an additional card, or increasing the credit limit on an existing account. This is a good first step if you're worried that your identity may be stolen, like after a data breach. The alert lasts for one year and can be renewed after it expires.\n"
     ]
    }
   ],
   "source": [
    "# The main Your Money, Your Goals Toolkit document\n",
    "pdf_name = \"cfpb_your-money-your-goals_financial-empowerment_toolkit.pdf\"\n",
    "download_url = f\"https://www.consumerfinance.gov/documents/8956/{pdf_name}\"\n",
    "\n",
    "# Use the PDF parser\n",
    "PP = parsePDF(download_url, pdf_name)\n",
    "raw_text = PP.extract_contents(start_regex=r\"MODULE 1\\s+\", download=True)  # Skip the intro\n",
    "clean_text = PP.clean_text(specific=\"cfpb_ymyg\")\n",
    "text_data = PP.get_text_data(chapter_regex=r\"MODULE [0-9].+\", starting_id=0)\n",
    "financial_literacy.extend(text_data)\n",
    "\n",
    "# Look at a sample of the extracted text\n",
    "print(\"\\n\" + financial_literacy[-10][\"passage_text\"])"
   ]
  },
  {
   "cell_type": "code",
   "execution_count": 3,
   "metadata": {},
   "outputs": [
    {
     "name": "stdout",
     "output_type": "stream",
     "text": [
      "\n",
      "Preventing elder financial exploitation takes a coordinated community response that includes engaging elders, the people who provide direct services to elders, community leaders, and law enforcement responders. Use this tool and to start engaging community members in protecting elders. the tool contains both strategies for communities to use and actions for elders and their trusted family members to take. taking action at both levels will contribute to a safer community for elders. What to do Identify the steps you can take to prevent elder financial exploitation. these steps. may be different if you are an elder, a family member or caregiver, a community member, or a tribal leader. Check the step when it's completed. To access a dynamic and fillable version of this tool, visit:  consumerfinance. gov/practitioner-resources/your-money-your-goals/companion-guides.\n"
     ]
    }
   ],
   "source": [
    "# The Your Money, Your Goals companion guides\n",
    "companion_pdfs = [\n",
    "    \"cfpb_ymyg-servicemembers-companion-guide.pdf\",     # military\n",
    "    \"cfpb_ymyg_focus-on-people-with-disabilities.pdf\",  # disabilities\n",
    "    \"cfpb_ymyg_reentry_supplement.pdf\",                 # criminal justice reentry\n",
    "    \"cfpb_ymyg_focus-on-native-communities.pdf\"         # native communities\n",
    "]\n",
    "for pdf_name in companion_pdfs:\n",
    "    download_url = f\"https://files.consumerfinance.gov/f/documents/{pdf_name}\"\n",
    "    starting_id = max([d[\"_id\"] for d in financial_literacy]) + 1\n",
    "\n",
    "    PP = parsePDF(download_url, pdf_name)\n",
    "    raw_text = PP.extract_contents(start_regex=r\"MODULE 1\\s+\", download=True)\n",
    "    clean_text = PP.clean_text(specific=\"cfpb_ymyg\")\n",
    "    text_data = PP.get_text_data(chapter_regex=r\"MODULE [0-9].+\", starting_id=starting_id)\n",
    "    financial_literacy.extend(text_data)\n",
    "    \n",
    "print(\"\\n\" + financial_literacy[-10][\"passage_text\"])"
   ]
  },
  {
   "cell_type": "markdown",
   "metadata": {},
   "source": [
    "### Tools and Resources for Newcomers\n",
    "There are [tools and resources](https://www.consumerfinance.gov/consumer-tools/educator-tools/adult-financial-education/tools-and-resources/#newcomers) available from the CFPB for many different topics. Here, we download information designed to help the 41 million+ immigrants in America. We will download resources about opening a bank account, selecting financial products and services, how to pay your bills, and ways to receive your money.\n",
    "\n",
    "Let's download, parse, and format the text data contained in the PDF publications."
   ]
  },
  {
   "cell_type": "code",
   "execution_count": 4,
   "metadata": {},
   "outputs": [
    {
     "name": "stdout",
     "output_type": "stream",
     "text": [
      "\n",
      "Credit card. Definition Benefits Risks A credit card allows you to borrow money up to an approved credit limit. You will pay interest if you carry a balance, and you can be charged other fees based on the terms of the contract. You can expect to make a minimum monthly payment and you may want to pay more than the minimum to pay it off sooner. Can use a credit card to pay bills over the phone or online. Easy to prove payment should a dispute arise. Protects you from having to pay for some or all the charges if your card or information is stolen or lost and you report the theft. Can be set up to automatically pay recurring bills. Can help build your credit history if you make payments on time and don't get close to your credit limit. Costs more than paying for the purchase with cash or a check if you can't pay the credit card balance in full every month. If you carry a balance, you have to pay interest on the balance. Creates another bill you have to pay. Creates debtyou are borrowing money to pay for bills and other items.\n"
     ]
    }
   ],
   "source": [
    "# Resources for newcomers\n",
    "newcomers_documents = [\n",
    "    \"cfpb_adult-fin-ed_checklist-for-opening-an-account.pdf\",\n",
    "    \"cfpb_adult-fin-ed_selecting-financial-products-and-services.pdf\",\n",
    "    \"201507_cfpb_ways-to-pay-your-bills.pdf\",\n",
    "    \"201507_cfpb_ways-to-receive-your-money.pdf\"]\n",
    "for pdf_name in newcomers_documents:\n",
    "    base_url = \"https://files.consumerfinance.gov/f/\"\n",
    "    if pdf_name[0].isdigit():\n",
    "        download_url = base_url + pdf_name\n",
    "    else:\n",
    "        download_url = base_url + \"documents/\" + pdf_name\n",
    "    starting_id = max([d[\"_id\"] for d in financial_literacy]) + 1\n",
    "\n",
    "    PP = parsePDF(download_url, pdf_name)\n",
    "    raw_text = PP.extract_contents(download=True)\n",
    "    clean_text = PP.clean_text()\n",
    "    text_data = PP.get_text_data(starting_id=starting_id)\n",
    "    financial_literacy.extend(text_data)\n",
    "    \n",
    "print(\"\\n\" + financial_literacy[-10][\"passage_text\"])"
   ]
  },
  {
   "cell_type": "markdown",
   "metadata": {},
   "source": [
    "### Money Management\n",
    "Another section of the [tools and resources](https://www.consumerfinance.gov/consumer-tools/educator-tools/adult-financial-education/tools-and-resources/#money-management) is money management. We will download resources about overdraft options, gift cards, managing spending, managing cash flow, making financial decisions, and organizing finances. These resources are all short, quick overviews that are 1-2 pages.\n",
    "\n",
    "Let's download, parse, and format the text data contained in the PDF publications."
   ]
  },
  {
   "cell_type": "code",
   "execution_count": 5,
   "metadata": {},
   "outputs": [
    {
     "name": "stdout",
     "output_type": "stream",
     "text": [
      "\n",
      "Ask; Ask questions about costs and risks. Keep asking more questions until you're sure you understand what you're payingand what you're getting. How much does this cost now? How much will it cost over time? Are there fees, taxes, penalties, or other charges? When do those apply? How do I avoid paying for extra services or add-ons if I don't want them? Can I cancel and get my money back? What's the deadline for canceling? How does the salesperson or company make money from me? Am I comfortable with that? What payment options do I have? Can I adjust my payment date? What's the worst-case scenario? How much money can I lose? How high can the cost of using the product go?\n"
     ]
    }
   ],
   "source": [
    "# The Your Money, Your Goals companion guides\n",
    "money_management_pdfs = [\n",
    "    \"cfpb_adult-fin-ed_know-your-overdraft-options.pdf\",\n",
    "    \"cfpb_adult-fin-ed_unwrapping-gift-cards-avoid-surprises.pdf\",\n",
    "    \"201702_cfpb_Managing-Spending-Ideas-for-Financial-Educators.pdf\",\n",
    "    \"201702_cfpb_Consumer-Tips-on-Managing-Spending.pdf\", \n",
    "    \"cfpb_adult-fin-ed_managing-cash-flow-and-bill-payments.pdf\",\n",
    "    \"cfpb_adult-fin-ed_five-steps-for-making-financial-decisions.pdf\",\n",
    "    \"cfpb_fin-ed-digest_organizing-finances.pdf\"\n",
    "]\n",
    "for pdf_name in money_management_pdfs:\n",
    "    download_url = f\"https://files.consumerfinance.gov/f/documents/{pdf_name}\"\n",
    "    starting_id = max([d[\"_id\"] for d in financial_literacy]) + 1\n",
    "\n",
    "    PP = parsePDF(download_url, pdf_name)\n",
    "    raw_text = PP.extract_contents(download=True)\n",
    "    clean_text = PP.clean_text()\n",
    "    text_data = PP.get_text_data(starting_id=starting_id)\n",
    "    financial_literacy.extend(text_data)\n",
    "    \n",
    "print(\"\\n\" + financial_literacy[-10][\"passage_text\"])"
   ]
  },
  {
   "cell_type": "code",
   "execution_count": null,
   "metadata": {},
   "outputs": [],
   "source": []
  },
  {
   "cell_type": "markdown",
   "metadata": {},
   "source": [
    "---\n",
    "## Saving our Data\n",
    "Now, all we have to do is save our data as a csv file. We will use pandas to make this easier and give us a preview of what our data looks like"
   ]
  },
  {
   "cell_type": "code",
   "execution_count": 6,
   "metadata": {},
   "outputs": [
    {
     "data": {
      "text/html": [
       "<div>\n",
       "<style scoped>\n",
       "    .dataframe tbody tr th:only-of-type {\n",
       "        vertical-align: middle;\n",
       "    }\n",
       "\n",
       "    .dataframe tbody tr th {\n",
       "        vertical-align: top;\n",
       "    }\n",
       "\n",
       "    .dataframe thead th {\n",
       "        text-align: right;\n",
       "    }\n",
       "</style>\n",
       "<table border=\"1\" class=\"dataframe\">\n",
       "  <thead>\n",
       "    <tr style=\"text-align: right;\">\n",
       "      <th></th>\n",
       "      <th>source_title</th>\n",
       "      <th>section_title</th>\n",
       "      <th>passage_text</th>\n",
       "    </tr>\n",
       "  </thead>\n",
       "  <tbody>\n",
       "    <tr>\n",
       "      <th>736</th>\n",
       "      <td>Your Money, Your Goals Focus on People with Disabilities</td>\n",
       "      <td>MODULE 8: .  Choosing Financial Products and Services</td>\n",
       "      <td>One important key to finding the right financial product or service is first thinking about the reason you need one. You may want a secure place to put the money you're saving for your goals, unexpected expenses, or emergencies. You may want a convenient way to pay your bills or to use your mobile phone to access your financial accounts. You may be looking for a loan to buy a car. Or you may want to repair or build your credit history to improve your credit scores. Using the tools. Use \"Finding financial products and services\" to find out about products that.</td>\n",
       "    </tr>\n",
       "    <tr>\n",
       "      <th>627</th>\n",
       "      <td>Your money, your goals: Focus on Military Communities</td>\n",
       "      <td>MODULE 12: Tracking Income and Benefits</td>\n",
       "      <td>At a glance in the toolkit Additionally, in this guide Overview Focus on military communities Using the tools Your Money, Your Goals toolkit. Focus on military communities Understanding your military pay statement How to read a pay stub. Veterans: Maximize your income through work incentives.</td>\n",
       "    </tr>\n",
       "    <tr>\n",
       "      <th>46</th>\n",
       "      <td>YOUR MONEY, YOUR GOALS: A financial empowerment toolkit</td>\n",
       "      <td>MODULE 2: .  Saving</td>\n",
       "      <td>Module 1: Setting Goals to come up with a SMART goal. Figure out how much money you'll need to save for that goal and how many weeks you have to save. Divide the amount of money you want to save by the number of weeks you have to save it. That's your weekly savings target. Brainstorm some ways to decrease spending or increase income to meet your weekly savings target. A step further Use the \"Find a place for savings\" tool to identify the best place to keep your savings. Creating a Savings plan can make it easier to save. Write down the goal you're saving toward. Figure out the total amount you need to save to reach that goal. Decide how many weeks you have to save. Divide the total amount by the number of weeks. That is your savings target. Think about ways you can cut expenses to match the total amount you need to save per week. Create a savings target.</td>\n",
       "    </tr>\n",
       "    <tr>\n",
       "      <th>909</th>\n",
       "      <td>Focus on Reentry: Criminal Justice</td>\n",
       "      <td>MODULE 10: .</td>\n",
       "      <td>For more information about background screening reports, visit https://www. consumer. ftc. gov/articles/0157-background-checks and CFPB background report snapshot at https://files. consumerfinance. gov/f/documents/ Individuals with criminal records may face discrimination in the employment and housing application process. For more information about rights under employment. discrimination laws, visit the EEOC at eeoc. gov or call (800) 669-4000 (voice) or (800) 669-6820 (TTY). The Department of Housing and Urban Development (HUD) in 2016 issued guidance advising that blanket policies denying housing on the basis of arrests alone may violate the Fair Housing Act. For more information, see You can report housing discrimination at HUD by visiting https://www. hud. gov/</td>\n",
       "    </tr>\n",
       "  </tbody>\n",
       "</table>\n",
       "</div>"
      ],
      "text/plain": [
       "                                                 source_title  \\\n",
       "736  Your Money, Your Goals Focus on People with Disabilities   \n",
       "627     Your money, your goals: Focus on Military Communities   \n",
       "46    YOUR MONEY, YOUR GOALS: A financial empowerment toolkit   \n",
       "909                        Focus on Reentry: Criminal Justice   \n",
       "\n",
       "                                             section_title  \\\n",
       "736  MODULE 8: .  Choosing Financial Products and Services   \n",
       "627                MODULE 12: Tracking Income and Benefits   \n",
       "46                                     MODULE 2: .  Saving   \n",
       "909                                           MODULE 10: .   \n",
       "\n",
       "                                                                                                                                                                                                                                                                                                                                                                                                                                                                                                                                                                                                                                                                                                                                                                                                                                                                                           passage_text  \n",
       "736                                                                                                                                                                                                                                                                                                               One important key to finding the right financial product or service is first thinking about the reason you need one. You may want a secure place to put the money you're saving for your goals, unexpected expenses, or emergencies. You may want a convenient way to pay your bills or to use your mobile phone to access your financial accounts. You may be looking for a loan to buy a car. Or you may want to repair or build your credit history to improve your credit scores. Using the tools. Use \"Finding financial products and services\" to find out about products that.  \n",
       "627                                                                                                                                                                                                                                                                                                                                                                                                                                                                                                                                                                                               At a glance in the toolkit Additionally, in this guide Overview Focus on military communities Using the tools Your Money, Your Goals toolkit. Focus on military communities Understanding your military pay statement How to read a pay stub. Veterans: Maximize your income through work incentives.  \n",
       "46   Module 1: Setting Goals to come up with a SMART goal. Figure out how much money you'll need to save for that goal and how many weeks you have to save. Divide the amount of money you want to save by the number of weeks you have to save it. That's your weekly savings target. Brainstorm some ways to decrease spending or increase income to meet your weekly savings target. A step further Use the \"Find a place for savings\" tool to identify the best place to keep your savings. Creating a Savings plan can make it easier to save. Write down the goal you're saving toward. Figure out the total amount you need to save to reach that goal. Decide how many weeks you have to save. Divide the total amount by the number of weeks. That is your savings target. Think about ways you can cut expenses to match the total amount you need to save per week. Create a savings target.  \n",
       "909                                                                                             For more information about background screening reports, visit https://www. consumer. ftc. gov/articles/0157-background-checks and CFPB background report snapshot at https://files. consumerfinance. gov/f/documents/ Individuals with criminal records may face discrimination in the employment and housing application process. For more information about rights under employment. discrimination laws, visit the EEOC at eeoc. gov or call (800) 669-4000 (voice) or (800) 669-6820 (TTY). The Department of Housing and Urban Development (HUD) in 2016 issued guidance advising that blanket policies denying housing on the basis of arrests alone may violate the Fair Housing Act. For more information, see You can report housing discrimination at HUD by visiting https://www. hud. gov/  "
      ]
     },
     "execution_count": 6,
     "metadata": {},
     "output_type": "execute_result"
    }
   ],
   "source": [
    "import pandas as pd\n",
    "pd.set_option(\"display.max_colwidth\", None)\n",
    "\n",
    "# Make dataframe\n",
    "flair_df = pd.DataFrame(financial_literacy)\n",
    "\n",
    "# View a sample of 4 entries\n",
    "flair_df[[\"source_title\", \"section_title\", \"passage_text\"]].sample(4)"
   ]
  },
  {
   "cell_type": "code",
   "execution_count": 7,
   "metadata": {},
   "outputs": [],
   "source": [
    "# Save it to a pipe-deliminated csv file\n",
    "save_name = \"financial_literacy_data.csv\"\n",
    "flair_df.to_csv(save_name, index=False, sep=\"|\")"
   ]
  }
 ],
 "metadata": {
  "kernelspec": {
   "display_name": "Python 3",
   "language": "python",
   "name": "python3"
  },
  "language_info": {
   "codemirror_mode": {
    "name": "ipython",
    "version": 3
   },
   "file_extension": ".py",
   "mimetype": "text/x-python",
   "name": "python",
   "nbconvert_exporter": "python",
   "pygments_lexer": "ipython3",
   "version": "3.8.5"
  }
 },
 "nbformat": 4,
 "nbformat_minor": 4
}
