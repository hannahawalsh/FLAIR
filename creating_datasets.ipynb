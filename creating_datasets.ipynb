{
 "cells": [
  {
   "cell_type": "markdown",
   "metadata": {},
   "source": [
    "# Gathering Data for FLAIR (Financial Literacy AI Resource)"
   ]
  },
  {
   "cell_type": "code",
   "execution_count": 1,
   "metadata": {},
   "outputs": [],
   "source": [
    "import re\n",
    "import os\n",
    "from tika import parser\n",
    "from nltk.tokenize import sent_tokenize\n",
    "from collections import defaultdict\n",
    "import numpy as np\n",
    "import urllib.request"
   ]
  },
  {
   "cell_type": "code",
   "execution_count": 2,
   "metadata": {},
   "outputs": [],
   "source": [
    "### Helper functions\n",
    "def download_file(download_url, filename):\n",
    "    response=urllib.request.urlopen(download_url)\n",
    "    save_path = os.path.join(\"data_sources\", filename)\n",
    "    with open(save_path, \"wb\") as f:\n",
    "        f.write(response.read())\n",
    "    print(f\"Saved PDF to {save_path}\")"
   ]
  },
  {
   "cell_type": "markdown",
   "metadata": {},
   "source": [
    "### Downloading financial literacy information\n",
    "We're only downloading financial literacy information from government websites to avoid advertising, opinions, bias, and false claims.  \n",
    "Our sources are:  \n",
    "- Consumer Financial Protection Bureau ([cfpb](www.consumerfinance.gov))\n",
    "\n",
    "\n",
    "Data will be formatted as a list of dictionaries. Each data point will have the structure: \n",
    "```\n",
    "{\n",
    "    \"_id\": int,\n",
    "    \"source_title\": str,\n",
    "    \"source_filename\": str,\n",
    "    \"source_url\" : str,\n",
    "    \"section_title\": str,\n",
    "    \"passage_text\": str\n",
    "}\n",
    "```"
   ]
  },
  {
   "cell_type": "code",
   "execution_count": 52,
   "metadata": {},
   "outputs": [],
   "source": [
    "class parsePDF:\n",
    "    def __init__(self, url, filename):\n",
    "        self.filename = filename\n",
    "        self.url = url\n",
    "\n",
    "    \n",
    "    def extract_contents(self, start_regex=None, download=True):\n",
    "        \"\"\" Extract a pdf's contents using tika. \"\"\"\n",
    "        # Check if the file is downloaded\n",
    "        pdf_path = os.path.join(\"data_sources\", self.filename)\n",
    "        if not os.path.exists(pdf_path):\n",
    "            # Download the file to the data_sources folder\n",
    "            if download == True:\n",
    "                download_file(self.url, self.filename)\n",
    "            else:\n",
    "                # Read directly from the website without downloading\n",
    "                pdf_path = self.url\n",
    "            \n",
    "        # Get raw parsed pdf text \n",
    "        pdf = parser.from_file(pdf_path)\n",
    "        self.text = pdf[\"content\"]\n",
    "        self.title = pdf[\"metadata\"][\"title\"]\n",
    "        \n",
    "        # Cut text to start at starting_chars\n",
    "        if start_regex:\n",
    "            try:\n",
    "                split = re.split(start_regex, self.text, 1)[-1]\n",
    "                self.text = start_regex.replace(\"\\s+\", \"\\n\") + split\n",
    "            except:\n",
    "                print(f\"Failed to find the phrase '{starting_chars}'\")        \n",
    "        return self.text \n",
    "        \n",
    "        \n",
    "    def clean_text(self, specific=None):\n",
    "        \"\"\" Clean the raw text of the pdf to be readable English. \"\"\"      \n",
    "        # Remove non ASCII characters: curved quotations\n",
    "        self.text = re.sub(r'“|”', '\"', self.text)  # double quotes\n",
    "        self.text = re.sub(r'’|‘', \"'\", self.text)  # single quotes\n",
    "        \n",
    "        # Remove Lines starting with \n",
    "        self.text = re.sub(r\"^.*$\", \"\", self.text, flags=re.M)\n",
    "        \n",
    "        # Remove non ASCII characters: bullet points as lists\n",
    "        pattern = r\"\\s*([•·∙⋅◦‣§■◊])\\s*(.*?)\\s*\\1\"\n",
    "        self.text = re.sub(pattern, r\"\\n\\2;\", self.text, flags=re.DOTALL)\n",
    "        \n",
    "        # Remove all other non ASCII characters\n",
    "        self.text = re.sub(r\"[^\\x00-\\x7f]\", \"\", self.text)\n",
    "        \n",
    "        # Format numbered lists as semicolon-separated lists\n",
    "        self.text = re.sub(r\"^[0-9]+\\s*\\.(.*)\\n\", r\"\\1;\", self.text, flags=re.M)\n",
    "        \n",
    "        # If a line ends with a comma, remove it for clarity\n",
    "        self.text = re.sub(r\",(\\n)+\", r\"\\1\", self.text)\n",
    "        \n",
    "        # Remove numbers from footnotes\n",
    "        self.text = re.sub(r\"^[0-9]+\\s+(.*)\", r\"\\1\", self.text, flags=re.M)\n",
    "\n",
    "        # Replace tabs with spaces\n",
    "        self.text = re.sub(r\"\\t+\", r\" \", self.text)\n",
    "        \n",
    "        # Remove space before punctuation\n",
    "        self.text = re.sub(r\" ([.;,?!])\", r\"\\1\", self.text)  \n",
    "        \n",
    "        # Remove numbers at end of words (usually footnotes)\n",
    "        self.text = re.sub(r\"(?<=[A-z.,])[0-9]+[\\b\\s]\", \" \", self.text)\n",
    "        \n",
    "        # Remove any words containing both letters and numbers\n",
    "        pattern = r\"[A-z]+[0-9]\\S*|[0-9]+[A-z]+\\S*\"\n",
    "        self.text = re.sub(pattern, \"\", self.text)  \n",
    "\n",
    "        # Do formatting on lines\n",
    "        clean_text = \" \"\n",
    "        for line in re.split(r\"\\n\", self.text):\n",
    "            line = line.strip()\n",
    "            # Signals the end of the document, start of metadata\n",
    "            if re.match(r\"^SPREAD WITH\", line):\n",
    "                break\n",
    "                \n",
    "            # Specific to PDF\n",
    "            if specific == \"cfpb_ymyg\":  # Your Money, Your Goals\n",
    "                # Ignore page footers\n",
    "                if re.match(r\"^MODULE [0-9]+:.*[0-9]+\", line):\n",
    "                    continue\n",
    "                elif re.match(r\"[0-9]+ [A-Z]+\", line):\n",
    "                    continue\n",
    "\n",
    "                # Weird example tables start with '.'\n",
    "                elif line.startswith(\".\"):\n",
    "                    clean_text += \"\\n\"\n",
    "                    continue\n",
    "\n",
    "                # Those tables seem to be surrounded by 'CATEGORY'\n",
    "                elif line == \"CATEGORY\":\n",
    "                    clean_text += \"\\n\"\n",
    "                    continue\n",
    "                    \n",
    "            # End the previous sentence if extra blank line\n",
    "            if not line:\n",
    "                L = clean_text[-1]\n",
    "                period = \".\" if L.isalnum() else \"\"\n",
    "                clean_text += f\"{period} \\n\"\n",
    "                continue\n",
    "            \n",
    "            # Remove page numbers\n",
    "            elif re.match(r\"^[0-9\\s]+$\", line):\n",
    "                continue\n",
    "                \n",
    "            # Remove likely footers\n",
    "            elif re.search(r\"[0-9]*[A-Z\\s]+$\", line):\n",
    "                continue\n",
    "            \n",
    "            # Remove lines that are URLs\n",
    "            elif re.match(r\"^https?:\\/\\/.*[\\r\\n]*\", line, flags=re.M):\n",
    "                continue\n",
    "                \n",
    "            # Remove lines with no alphanumeric characters\n",
    "            elif not re.search(r\"[A-Za-z0-9]\", line):\n",
    "                continue\n",
    "                \n",
    "            # Remove any input fields\n",
    "            elif \"_\" in line or (\"check box\" in line.lower() and \":\" in line):\n",
    "                continue\n",
    "                \n",
    "#             # Remove lines that are in ALL CAPS\n",
    "#             elif line.isupper():\n",
    "#                 continue\n",
    "                \n",
    "            # Keep Title Case headers as their own line\n",
    "            elif line.istitle():\n",
    "                clean_text += f\"\\n{line}\\n\"\n",
    "                continue\n",
    "                \n",
    "            # Add line to text\n",
    "            usespace = \"\" if clean_text[-1] == \"\\n\" else \" \"\n",
    "            clean_text += (usespace + line)\n",
    "        self.text = clean_text.strip()\n",
    "\n",
    "        \n",
    "        # If 3 or more spaces, make it a new line\n",
    "        self.text = re.sub(r\"   +\", \"\\n\", self.text, flags=re.M)\n",
    "        \n",
    "        # Replace multiple whitespace with one newline\n",
    "        self.text = re.sub(r\"\\n\\s+\", \"\\n\", self.text, flags=re.M)\n",
    "        \n",
    "        # Replace multiple periods and single period lines\n",
    "        self.text = re.sub(r\"\\.\\.+\", \"\", self.text, flags=re.M)\n",
    "        self.text = re.sub(r\"\\n\\.\", \"\", self.text, flags=re.M)\n",
    "        \n",
    "        # Replace all other duplicate punctuation with the first one\n",
    "        self.text = re.sub(r\"([!,-.:;?])([!,-.:;?]+)\", r\"\\1\", self.text)\n",
    "        \n",
    "        # Make sure there's a whitespace after punctuation\n",
    "        pattern = r\"([A-Za-z][!,.:;?])([A-Za-z])\"\n",
    "        self.text = re.sub(pattern, r\"\\1 \\2\", self.text)\n",
    "        \n",
    "        # Remove whitespace after a slash (e.g., within a url)\n",
    "        self.text = re.sub(r\"/\\s\", \"/\", self.text)\n",
    "        \n",
    "        # Remove whitespace around hyphens\n",
    "        self.text = re.sub(r\"\\s{0,1}-\\s{0,1}\", \"-\", self.text)\n",
    "        \n",
    "        # Specific to pdf\n",
    "        if specific == \"cfpb_ymyg\":\n",
    "            # Sometimes on pages they interject contacts for problems\n",
    "            pattern = r\"Having a problem.*?-[0-9]{4}\\.\"\n",
    "            self.text = re.sub(pattern, \"\", self.text, flags=re.DOTALL)\n",
    "        \n",
    "            # Format Module titles\n",
    "            new_text = \"\"\n",
    "            split_text = re.split(r\"MODULE [0-9]+\", self.text)[1:]\n",
    "            for i, T in enumerate(split_text):\n",
    "                # Section title\n",
    "                pattern = r\".*?\\s?(?=[A-Z][a-z]+\\s([a-z,']+\\s){3})\"\n",
    "                title =  re.search(pattern, T.strip(), flags=re.M|re.DOTALL)\n",
    "                title = title.group(0).strip().replace(\"\\n\", \" \")\n",
    "                new_text += f\"MODULE {i+1}: {title}\\n\"\n",
    "\n",
    "                # Text of section\n",
    "                new_text += T.replace(title, \"\", 1).strip()\n",
    "            self.text = new_text\n",
    "        \n",
    "        return self.text\n",
    "    \n",
    "    \n",
    "    def get_text_data(self, chapter_regex=None, starting_id=0):\n",
    "        \"\"\" \n",
    "        Break the text into medium-sized paragraph chunks, about 100\n",
    "        words each. Then format the data into the correct format\n",
    "        \"\"\"\n",
    "        assert hasattr(self, \"text\"), \"You haven't parsed the text yet\"\n",
    "        # Split text up by 'chapter'\n",
    "        if chapter_regex:\n",
    "            split_text = re.split(chapter_regex, self.text)[1:]\n",
    "            chapter_names = [x.group(0) for x in \n",
    "                re.finditer(chapter_regex, self.text)]\n",
    "            text_dict = {c: t for c, t in zip(chapter_names, split_text)}\n",
    "        else:\n",
    "            text_dict = {\"main\": self.text}\n",
    "            \n",
    "        # For each chapter, break text up into paragraphs\n",
    "        self.chunks = defaultdict(list)\n",
    "        for chapter_name, chapter_text in text_dict.items():\n",
    "            chunk_list = self.chunks[chapter_name]\n",
    "            for para in chapter_text.split(\"\\n\"):\n",
    "                # Considered a paragraph if more than one sentence\n",
    "                if len(sent_tokenize(para)) <= 1:\n",
    "                    continue\n",
    "                # Get paragraph length and previous chunk length\n",
    "                paragraph_words = len(para.split())\n",
    "                if len(chunk_list) > 0:\n",
    "                    previous_words = len(chunk_list[-1].split())\n",
    "                else:\n",
    "                    previous_words = 0\n",
    "                    \n",
    "                # Decide if it should be appended to previous chunk\n",
    "                if not previous_words or previous_words > 100:\n",
    "                    chunk_list.append(para.strip())\n",
    "                elif previous_words + paragraph_words < 200:\n",
    "                    chunk_list[-1] += \" \" + para.strip()\n",
    "                else:\n",
    "                    chunk_list.append(para.strip())\n",
    "                    \n",
    "        # Format the data\n",
    "        self.datapoints = []\n",
    "        current_id = starting_id\n",
    "        for section, text_list in self.chunks.items():\n",
    "            for text in text_list:\n",
    "                self.datapoints.append({\n",
    "                    \"_id\": current_id,\n",
    "                    \"source_title\": self.title,\n",
    "                    \"source_filename\": self.filename,\n",
    "                    \"source_url\": self.url,\n",
    "                    \"section_title\": section,\n",
    "                    \"passage_text\": text\n",
    "                })\n",
    "                current_id += 1\n",
    "                    \n",
    "        return self.datapoints"
   ]
  },
  {
   "cell_type": "code",
   "execution_count": 53,
   "metadata": {},
   "outputs": [],
   "source": [
    "# Dataset is formatted as a list of dictionaries\n",
    "financial_literacy = list()"
   ]
  },
  {
   "cell_type": "markdown",
   "metadata": {},
   "source": [
    "---\n",
    "#### Source: CFPB \"Your Money, Your Goals Toolkit\"\n",
    "Link to [page](https://www.consumerfinance.gov/consumer-tools/educator-tools/your-money-your-goals/toolkit/)  \n",
    "Link to [pdf download](https://www.consumerfinance.gov/documents/8956/cfpb_your-money-your-goals_financial-empowerment_toolkit.pdf)"
   ]
  },
  {
   "cell_type": "code",
   "execution_count": 55,
   "metadata": {},
   "outputs": [
    {
     "data": {
      "text/plain": [
       "{'_id': 10,\n",
       " 'source_title': 'YOUR MONEY, YOUR GOALS: A financial empowerment toolkit',\n",
       " 'source_filename': 'cfpb_your-money-your-goals_financial-empowerment_toolkit.pdf',\n",
       " 'source_url': 'https://www.consumerfinance.gov/documents/8956/cfpb_your-money-your-goals_financial-empowerment_toolkit.pdf',\n",
       " 'section_title': 'MODULE 1: Setting Goals',\n",
       " 'passage_text': \"Specific What will I achieve? Who will benefit from the goal? What specific thing will I accomplish? Measurable How much? How many? How will I know when it's done? can actually reach? Do I have the tools and support I need to accomplish this? Relevant Is this something that I really want? Is now the right time to do this? Why is this goal important? Time bound When will I reach this goal? Is the time frame reasonable? Putting goals into action Before you can accomplish a goal, you need a plan for how to achieve it. This tool helps you turn your SMART goals into an easy-to-follow action plan.\"}"
      ]
     },
     "execution_count": 55,
     "metadata": {},
     "output_type": "execute_result"
    }
   ],
   "source": [
    "pdf_name = \"cfpb_your-money-your-goals_financial-empowerment_toolkit.pdf\"\n",
    "download_url = f\"https://www.consumerfinance.gov/documents/8956/{pdf_name}\"\n",
    "\n",
    "PP1 = parsePDF(download_url, pdf_name)\n",
    "raw_text1 = PP1.extract_contents(start_regex=r\"MODULE 1\\s+\")\n",
    "clean_text1 = PP1.clean_text(specific=\"cfpb_ymyg\")\n",
    "text_data1 = PP1.get_text_data(chapter_regex=r\"MODULE [0-9].+\", starting_id=0)\n",
    "financial_literacy.extend(text_data1)\n",
    "\n",
    "text_data1[10]"
   ]
  },
  {
   "cell_type": "markdown",
   "metadata": {},
   "source": [
    "---\n",
    "#### Source: CFPB \"Your Money, Your Goals\" Companion Guide: Military Communities\n",
    "Link to [page](https://www.consumerfinance.gov/consumer-tools/educator-tools/your-money-your-goals/companion-guides/)  \n",
    "Link to [pdf download](https://files.consumerfinance.gov/f/documents/cfpb_ymyg-servicemembers-companion-guide.pdf)"
   ]
  },
  {
   "cell_type": "code",
   "execution_count": 159,
   "metadata": {},
   "outputs": [
    {
     "data": {
      "text/plain": [
       "{'_id': 288,\n",
       " 'source_title': ' Your money, your goals: Focus on Military Communities',\n",
       " 'source_filename': 'cfpb_ymyg-servicemembers-companion-guide.pdf',\n",
       " 'source_url': 'https://files.consumerfinance.gov/f/documents/cfpb_ymyg-servicemembers-companion-guide.pdf',\n",
       " 'section_title': 'MODULE 1: Setting Goals',\n",
       " 'passage_text': \"Complete next steps you agreed to during the conversation. Create a check list to keep track of next steps. Patrick I was unemployed last time you deployed, and there were things the kids and I needed. It's not like we were spending the money on frivolous things. Marissa All I know is we can't do that again. So, here is a budget I prepared for you and the children while I am gone. No more eating outthat's for sure. You wasted so much money on that last time. Patrick Wait, you prepared a budget for us! That doesn't seem very fair. You don't know what it is like managing all these responsibilities on your own. Sometimes I was too exhausted to cook, so we grabbed meals out. That doesn't seem like a big deal to me.\"}"
      ]
     },
     "execution_count": 159,
     "metadata": {},
     "output_type": "execute_result"
    }
   ],
   "source": [
    "pdf_name = \"cfpb_ymyg-servicemembers-companion-guide.pdf\"\n",
    "download_url = f\"https://files.consumerfinance.gov/f/documents/{pdf_name}\"\n",
    "starting_id = max([d[\"_id\"] for d in financial_literacy]) + 1\n",
    "\n",
    "PP2 = parsePDF(download_url, pdf_name)\n",
    "raw_text2 = PP2.extract_contents(start_regex=r\"MODULE 1\\s+\")\n",
    "clean_text2 = PP2.clean_text(specific=\"cfpb_ymyg\")\n",
    "text_data2 = PP2.get_text_data(chapter_regex=r\"MODULE [0-9].+\", starting_id=starting_id)\n",
    "financial_literacy.extend(text_data2)\n",
    "\n",
    "text_data2[10]"
   ]
  },
  {
   "cell_type": "markdown",
   "metadata": {},
   "source": [
    "---\n",
    "#### Source: CFPB \"Your Money, Your Goals\" Companion Guide: Disabilities\n",
    "Link to [page](https://www.consumerfinance.gov/consumer-tools/educator-tools/your-money-your-goals/companion-guides/)  \n",
    "Link to [pdf download](https://files.consumerfinance.gov/f/documents/cfpb_ymyg_focus-on-people-with-disabilities.pdf)"
   ]
  },
  {
   "cell_type": "code",
   "execution_count": 160,
   "metadata": {},
   "outputs": [
    {
     "data": {
      "text/plain": [
       "{'_id': 393,\n",
       " 'source_title': 'Your Money, Your Goals Focus on People with Disabilities',\n",
       " 'source_filename': 'cfpb_ymyg_focus-on-people-with-disabilities.pdf',\n",
       " 'source_url': 'https://files.consumerfinance.gov/f/documents/cfpb_ymyg_focus-on-people-with-disabilities.pdf',\n",
       " 'section_title': 'MODULE 2: Saving',\n",
       " 'passage_text': 'To begin, the person will need to fill out a PASS application form and submit it to the Social Security Administration (SSA). Help in completing the form can come from a vocational counselor, case manager, or the PASS Cadre, which is a group of PASS specialists. PASS experts can be found at ssa.gov/disabilityresearch/wi/passcadre.htm. Other disability agencies, such as centers for independent living can offer help to fill out the application forms and develop PASS plans. A full list of requirements and a description of the application process is at Plan to Achieve Self-Support (PASS) ssa.gov/disabilityresearch/wi/pass.htm.'}"
      ]
     },
     "execution_count": 160,
     "metadata": {},
     "output_type": "execute_result"
    }
   ],
   "source": [
    "pdf_name = \"cfpb_ymyg_focus-on-people-with-disabilities.pdf\"\n",
    "download_url = f\"https://files.consumerfinance.gov/f/documents/{pdf_name}\"\n",
    "starting_id = max([d[\"_id\"] for d in financial_literacy]) + 1\n",
    "\n",
    "PP3 = parsePDF(download_url, pdf_name)\n",
    "raw_text3 = PP3.extract_contents(start_regex=r\"MODULE 1\\s+\")\n",
    "clean_text3 = PP3.clean_text(specific=\"cfpb_ymyg\")\n",
    "text_data3 = PP3.get_text_data(chapter_regex=r\"MODULE [0-9].+\", starting_id=starting_id)\n",
    "financial_literacy.extend(text_data3)\n",
    "\n",
    "text_data3[10]"
   ]
  },
  {
   "cell_type": "markdown",
   "metadata": {},
   "source": [
    "---\n",
    "#### Source: CFPB \"Your Money, Your Goals\" Companion Guide: Criminal Justice-Involved Individuals\n",
    "Link to [page](https://www.consumerfinance.gov/consumer-tools/educator-tools/your-money-your-goals/companion-guides/)  \n",
    "Link to [pdf download](https://files.consumerfinance.gov/f/documents/cfpb_ymyg_reentry_supplement.pdf)"
   ]
  },
  {
   "cell_type": "code",
   "execution_count": 161,
   "metadata": {},
   "outputs": [
    {
     "data": {
      "text/plain": [
       "{'_id': 446,\n",
       " 'source_title': 'Focus on Reentry: Criminal Justice',\n",
       " 'source_filename': 'cfpb_ymyg_reentry_supplement.pdf',\n",
       " 'source_url': 'https://files.consumerfinance.gov/f/documents/cfpb_ymyg_reentry_supplement.pdf',\n",
       " 'section_title': 'MODULE 2: Saving',\n",
       " 'passage_text': 'If you are working and make under a certain level of income, you may be eligible for the Earned Income Tax Credit or other tax credits. It is important to find out whether you are eligible. See the Handout: Saving at tax time in this module. you get your tax refund. For information about incarceration and filing taxes, see Additional resources and visit https://www.irs.gov/individuals/prisoner-re-entry-program; Use Saving and asset limits to get a clear picture of how much you can save while still maintaining your public benefits. Public benefits may be affected by incarceration, which is discussed in Module 3. If you need assistance in preparing and filing your returns one of your choices is to visit a Volunteer Income Tax Assistance (VITA) site. IRS-certified volunteers can help you file your taxes and make a plan for your refund, all for free. Eliminating preparation fees can make a big difference in your ability to start or build your savings, or pay bills and expenses. Find a site by visiting https://www.irs.gov/individuals/free-tax-return-preparation-for-qualifying-taxpayers or call (800) 906-9887.'}"
      ]
     },
     "execution_count": 161,
     "metadata": {},
     "output_type": "execute_result"
    }
   ],
   "source": [
    "pdf_name = \"cfpb_ymyg_reentry_supplement.pdf\"\n",
    "download_url = f\"https://files.consumerfinance.gov/f/documents/{pdf_name}\"\n",
    "starting_id = max([d[\"_id\"] for d in financial_literacy]) + 1\n",
    "\n",
    "PP4 = parsePDF(download_url, pdf_name)\n",
    "raw_text4 = PP4.extract_contents(start_regex=r\"MODULE 1\\s+\")\n",
    "clean_text4 = PP4.clean_text(specific=\"cfpb_ymyg\")\n",
    "text_data4 = PP4.get_text_data(chapter_regex=r\"MODULE [0-9].+\", starting_id=starting_id)\n",
    "financial_literacy.extend(text_data4)\n",
    "\n",
    "text_data4[10]"
   ]
  },
  {
   "cell_type": "markdown",
   "metadata": {},
   "source": [
    "---\n",
    "#### Source: CFPB \"Your Money, Your Goals\" Companion Guide: Native Communities\n",
    "Link to [page](https://www.consumerfinance.gov/consumer-tools/educator-tools/your-money-your-goals/companion-guides/)  \n",
    "Link to [pdf download](https://files.consumerfinance.gov/f/documents/cfpb_ymyg_focus-on-native-communities.pdf)"
   ]
  },
  {
   "cell_type": "code",
   "execution_count": 162,
   "metadata": {},
   "outputs": [
    {
     "name": "stdout",
     "output_type": "stream",
     "text": [
      "Saved PDF to data_sources/cfpb_ymyg_focus-on-native-communities.pdf\n"
     ]
    },
    {
     "data": {
      "text/plain": [
       "{'_id': 556,\n",
       " 'source_title': 'Your Money, Your Goals: Focus on Native Communities',\n",
       " 'source_filename': 'cfpb_ymyg_focus-on-native-communities.pdf',\n",
       " 'source_url': 'https://files.consumerfinance.gov/f/documents/cfpb_ymyg_focus-on-native-communities.pdf',\n",
       " 'section_title': 'MODULE 2: Saving',\n",
       " 'passage_text': 'each program has different rules about what counts as an asset and the total value of your assets allowed to qualify for assistance. For some programs, these rules are the same regardless of where you live. For others, each state or tribe determines its own rules. In general, your liquid assets (like cash or money in savings or checking accounts) are counted as assets. In some states, if the value of your car exceeds a certain amount, anything over that amount may be counted as an asset as well. Identify which public or tribal benefits the person you\\'re working with currently receives or may be applying for in the near future. Use the websites and the \"Additional Resources\" provided to figure out the specific asset limit for each program and write it on the tool. If you regularly work with people who receive public benefits, consider completing this tool in advance. Make copies and review it with the people you serve.'}"
      ]
     },
     "execution_count": 162,
     "metadata": {},
     "output_type": "execute_result"
    }
   ],
   "source": [
    "pdf_name = \"cfpb_ymyg_focus-on-native-communities.pdf\"\n",
    "download_url = f\"https://files.consumerfinance.gov/f/documents/{pdf_name}\"\n",
    "starting_id = max([d[\"_id\"] for d in financial_literacy]) + 1\n",
    "\n",
    "PP5 = parsePDF(download_url, pdf_name)\n",
    "raw_text5 = PP5.extract_contents(start_regex=r\"MODULE 1\\s+\")\n",
    "clean_text5 = PP5.clean_text(specific=\"cfpb_ymyg\")\n",
    "text_data5 = PP5.get_text_data(chapter_regex=r\"MODULE [0-9].+\", starting_id=starting_id)\n",
    "financial_literacy.extend(text_data5)\n",
    "\n",
    "text_data5[10]"
   ]
  },
  {
   "cell_type": "markdown",
   "metadata": {},
   "source": [
    "---\n",
    "#### Source: CFPB A Newcomer's Guide to Managing Money\n",
    "Link to [page](https://www.consumerfinance.gov/consumer-tools/educator-tools/adult-financial-education/tools-and-resources/#newcomers)   \n",
    "\n",
    "##### Opening a bank or credit union account\n",
    "Link to [pdf download](https://files.consumerfinance.gov/f/documents/cfpb_adult-fin-ed_checklist-for-opening-an-account.pdf)  \n",
    "\n",
    "##### Selecting financial products and services\n",
    "Link to [pdf download](https://files.consumerfinance.gov/f/documents/cfpb_adult-fin-ed_selecting-financial-products-and-services.pdf)\n",
    "\n",
    "##### Ways to pay your bills\n",
    "Link to [pdf download](https://files.consumerfinance.gov/f/201507_cfpb_ways-to-pay-your-bills.pdf)\n",
    "\n",
    "##### Ways to receive your money\n",
    "Link to [pdf download](https://files.consumerfinance.gov/f/201507_cfpb_ways-to-receive-your-money.pdf)"
   ]
  },
  {
   "cell_type": "code",
   "execution_count": 15,
   "metadata": {},
   "outputs": [
    {
     "name": "stdout",
     "output_type": "stream",
     "text": [
      "Saved PDF to data_sources/201507_cfpb_ways-to-pay-your-bills.pdf\n",
      "Saved PDF to data_sources/201507_cfpb_ways-to-receive-your-money.pdf\n"
     ]
    },
    {
     "data": {
      "text/plain": [
       "{'_id': 308,\n",
       " 'source_title': 'Ways to receive your money',\n",
       " 'source_filename': '201507_cfpb_ways-to-receive-your-money.pdf',\n",
       " 'source_url': 'https://files.consumerfinance.gov/f/201507_cfpb_ways-to-receive-your-money.pdf',\n",
       " 'section_title': 'main',\n",
       " 'passage_text': 'Your salary or wages are electronically sent to your prepaid card without the use of a paper check. May be safer and more secure than carrying cash or checks. The card does not have the same consumer protections as a checking account or payroll card for funds taken by electronic error or theft. You might be limited in the types of transactions you can use the card for. For example, you might not be able to use your prepaid card to pay bills. Many cards charge fees for inactivity, purchases, ATM use, monthly fees, etc. P.O. Box 4503'}"
      ]
     },
     "execution_count": 15,
     "metadata": {},
     "output_type": "execute_result"
    }
   ],
   "source": [
    "newcomers_documents = [\n",
    "    \"cfpb_adult-fin-ed_checklist-for-opening-an-account.pdf\",\n",
    "    \"cfpb_adult-fin-ed_selecting-financial-products-and-services.pdf\",\n",
    "    \"201507_cfpb_ways-to-pay-your-bills.pdf\",\n",
    "    \"201507_cfpb_ways-to-receive-your-money.pdf\"]\n",
    "\n",
    "for pdf_name in newcomers_documents:\n",
    "    base_url = \"https://files.consumerfinance.gov/f/\"\n",
    "    if pdf_name[0].isdigit():\n",
    "        download_url = base_url + pdf_name\n",
    "    else:\n",
    "        download_url = base_url + \"documents/\" + pdf_name\n",
    "    starting_id = max([d[\"_id\"] for d in financial_literacy]) + 1\n",
    "\n",
    "    PP6 = parsePDF(download_url, pdf_name)\n",
    "    raw_text6 = PP6.extract_contents()\n",
    "    clean_text6 = PP6.clean_text()\n",
    "    text_data6 = PP6.get_text_data(starting_id=starting_id)\n",
    "    financial_literacy.extend(text_data6)\n",
    "\n",
    "financial_literacy[-1]"
   ]
  },
  {
   "cell_type": "markdown",
   "metadata": {},
   "source": [
    "---\n",
    "#### Source: CFPB Money Management\n",
    "Link to [page](https://www.consumerfinance.gov/consumer-tools/educator-tools/adult-financial-education/tools-and-resources/#money-management)   \n",
    "\n",
    "##### Know your overdraft options\n",
    "Link to [pdf download](https://files.consumerfinance.gov/f/documents/cfpb_adult-fin-ed_know-your-overdraft-options.pdf)  \n",
    "\n",
    "##### Unwrapping gift cards\n",
    "Link to [pdf download](https://files.consumerfinance.gov/f/documents/cfpb_adult-fin-ed_unwrapping-gift-cards-avoid-surprises.pdf)\n",
    "\n",
    "\n"
   ]
  },
  {
   "cell_type": "code",
   "execution_count": null,
   "metadata": {},
   "outputs": [],
   "source": [
    "newcomers_documents = [\n",
    "    \"cfpb_adult-fin-ed_know-your-overdraft-options.pdf\",\n",
    "    \"cfpb_adult-fin-ed_unwrapping-gift-cards-avoid-surprises.pdf\"\n",
    "]\n",
    "\n",
    "for pdf_name in newcomers_documents:\n",
    "    base_url = \"https://files.consumerfinance.gov/f/\"\n",
    "    if pdf_name[0].isdigit():\n",
    "        download_url = base_url + pdf_name\n",
    "    else:\n",
    "        download_url = base_url + \"documents/\" + pdf_name\n",
    "    starting_id = max([d[\"_id\"] for d in financial_literacy]) + 1\n",
    "\n",
    "    PP6 = parsePDF(download_url, pdf_name)\n",
    "    raw_text6 = PP6.extract_contents()\n",
    "    clean_text6 = PP6.clean_text()\n",
    "    text_data6 = PP6.get_text_data(starting_id=starting_id)\n",
    "    financial_literacy.extend(text_data6)\n",
    "\n",
    "financial_literacy[-1]"
   ]
  },
  {
   "cell_type": "markdown",
   "metadata": {},
   "source": [
    "---\n",
    "---\n",
    "## Save the data as a file"
   ]
  },
  {
   "cell_type": "code",
   "execution_count": 17,
   "metadata": {},
   "outputs": [
    {
     "data": {
      "text/html": [
       "<div>\n",
       "<style scoped>\n",
       "    .dataframe tbody tr th:only-of-type {\n",
       "        vertical-align: middle;\n",
       "    }\n",
       "\n",
       "    .dataframe tbody tr th {\n",
       "        vertical-align: top;\n",
       "    }\n",
       "\n",
       "    .dataframe thead th {\n",
       "        text-align: right;\n",
       "    }\n",
       "</style>\n",
       "<table border=\"1\" class=\"dataframe\">\n",
       "  <thead>\n",
       "    <tr style=\"text-align: right;\">\n",
       "      <th></th>\n",
       "      <th>source_title</th>\n",
       "      <th>section_title</th>\n",
       "      <th>passage_text</th>\n",
       "    </tr>\n",
       "  </thead>\n",
       "  <tbody>\n",
       "    <tr>\n",
       "      <th>188</th>\n",
       "      <td>YOUR MONEY, YOUR GOALS: A financial empowerment toolkit</td>\n",
       "      <td>MODULE 7: Understanding Credit Reports and Scores</td>\n",
       "      <td>Length of credit history tracks how long you've had credit accountsthe longer the history, the more positive affect on your scores. A long credit history provides strong evidence of how you use credit and patterns of your payment behavior. Pie chart values are from FICO. See myfico.com. New credit is tracked by measuring credit inquiries about you made by creditors and others. If there are too many inquiries, it may signal that you have a high demand for credit. Because this may be an indica...</td>\n",
       "    </tr>\n",
       "    <tr>\n",
       "      <th>268</th>\n",
       "      <td>YOUR MONEY, YOUR GOALS: A financial empowerment toolkit</td>\n",
       "      <td>MODULE 9: Protecting your Money</td>\n",
       "      <td>Use a shredder, scissors, or your hands to tear all papers with identifying information or account numbers into tiny pieces before throwing them out. Also cut up any old or cancelled credit cards or debit cards. Only give out your Social Security number when it's absolutely necessary. Often when someone asks for it, you are not required to give it to them. Protect information like your mother's maiden name, which is often used as a way to verify identity with financial institutions. Be cauti...</td>\n",
       "    </tr>\n",
       "    <tr>\n",
       "      <th>69</th>\n",
       "      <td>YOUR MONEY, YOUR GOALS: A financial empowerment toolkit</td>\n",
       "      <td>MODULE 3: Tracking Income and Benefits</td>\n",
       "      <td>I can earn extra money with skills I have (providing childcare, doing yard work, etc.).</td>\n",
       "    </tr>\n",
       "    <tr>\n",
       "      <th>133</th>\n",
       "      <td>YOUR MONEY, YOUR GOALS: A financial empowerment toolkit</td>\n",
       "      <td>MODULE 6: Dealing with Debt</td>\n",
       "      <td>If you're short on cash, consider some alternatives to borrowing small amounts of money for a short period of time. Negotiate for more time to pay if the loan is to pay a bill that's due. Think about what you're borrowing the money for. Is it a need, an obligation, or a want? If it's a want, consider whether it's possible to spend less money for it, not purchase it, or wait until you have the money for it. Use a credit card if you have one that is not maxed out while it will increase your mo...</td>\n",
       "    </tr>\n",
       "  </tbody>\n",
       "</table>\n",
       "</div>"
      ],
      "text/plain": [
       "                                                source_title  \\\n",
       "188  YOUR MONEY, YOUR GOALS: A financial empowerment toolkit   \n",
       "268  YOUR MONEY, YOUR GOALS: A financial empowerment toolkit   \n",
       "69   YOUR MONEY, YOUR GOALS: A financial empowerment toolkit   \n",
       "133  YOUR MONEY, YOUR GOALS: A financial empowerment toolkit   \n",
       "\n",
       "                                         section_title  \\\n",
       "188  MODULE 7: Understanding Credit Reports and Scores   \n",
       "268                    MODULE 9: Protecting your Money   \n",
       "69              MODULE 3: Tracking Income and Benefits   \n",
       "133                        MODULE 6: Dealing with Debt   \n",
       "\n",
       "                                                                                                                                                                                                                                                                                                                                                                                                                                                                                                            passage_text  \n",
       "188  Length of credit history tracks how long you've had credit accountsthe longer the history, the more positive affect on your scores. A long credit history provides strong evidence of how you use credit and patterns of your payment behavior. Pie chart values are from FICO. See myfico.com. New credit is tracked by measuring credit inquiries about you made by creditors and others. If there are too many inquiries, it may signal that you have a high demand for credit. Because this may be an indica...  \n",
       "268  Use a shredder, scissors, or your hands to tear all papers with identifying information or account numbers into tiny pieces before throwing them out. Also cut up any old or cancelled credit cards or debit cards. Only give out your Social Security number when it's absolutely necessary. Often when someone asks for it, you are not required to give it to them. Protect information like your mother's maiden name, which is often used as a way to verify identity with financial institutions. Be cauti...  \n",
       "69                                                                                                                                                                                                                                                                                                                                                                                                                               I can earn extra money with skills I have (providing childcare, doing yard work, etc.).  \n",
       "133  If you're short on cash, consider some alternatives to borrowing small amounts of money for a short period of time. Negotiate for more time to pay if the loan is to pay a bill that's due. Think about what you're borrowing the money for. Is it a need, an obligation, or a want? If it's a want, consider whether it's possible to spend less money for it, not purchase it, or wait until you have the money for it. Use a credit card if you have one that is not maxed out while it will increase your mo...  "
      ]
     },
     "execution_count": 17,
     "metadata": {},
     "output_type": "execute_result"
    }
   ],
   "source": [
    "import pandas as pd\n",
    "pd.set_option(\"display.max_colwidth\", 500)\n",
    "\n",
    "save_name = \"financial_literacy_data.csv\"\n",
    "flair_df = pd.DataFrame(financial_literacy)\n",
    "\n",
    "flair_df[[\"source_title\", \"section_title\", \"passage_text\"]].sample(4)"
   ]
  },
  {
   "cell_type": "code",
   "execution_count": null,
   "metadata": {},
   "outputs": [],
   "source": [
    "flair_df.to_csv(save_name, index=False, sep=\"|\")"
   ]
  },
  {
   "cell_type": "code",
   "execution_count": null,
   "metadata": {},
   "outputs": [],
   "source": []
  },
  {
   "cell_type": "code",
   "execution_count": null,
   "metadata": {},
   "outputs": [],
   "source": []
  },
  {
   "cell_type": "code",
   "execution_count": null,
   "metadata": {},
   "outputs": [],
   "source": [
    "###############################################################################\n",
    "###############################################################################"
   ]
  },
  {
   "cell_type": "code",
   "execution_count": null,
   "metadata": {},
   "outputs": [],
   "source": [
    "# online_sources = {}\n",
    "\n",
    "# url = \"https://www.moneygeek.com/financial-planning/resources/assistance-for-formerly-incarcerated/\"\n",
    "# formerly_incarcerated = parseWebpage(url)\n",
    "# fi_text = formerly_incarcerated.extract_contents()\n",
    "# fi_chunks = formerly_incarcerated.chunk_into_paragraphs()\n",
    "# online_sources.update(fi_chunks)\n",
    "\n",
    "# title = formerly_incarcerated.title\n",
    "# print(f\"{title}\\n{'='*len(title)}\")\n",
    "# print(fi_chunks[title][0])"
   ]
  },
  {
   "cell_type": "code",
   "execution_count": null,
   "metadata": {},
   "outputs": [],
   "source": [
    "# url = \"https://www.moneygeek.com/financial-planning/resources/financial-help-women-abusive-relationships/\"\n",
    "# domestic_violence = parseWebpage(url)\n",
    "# dv_text = domestic_violence.extract_contents()\n",
    "# dv_chunks = domestic_violence.chunk_into_paragraphs()\n",
    "# online_sources.update(dv_chunks)\n",
    "\n",
    "# title = domestic_violence.title\n",
    "# print(f\"{title}\\n{'='*len(title)}\")\n",
    "# print(dv_chunks[title][0])"
   ]
  },
  {
   "cell_type": "code",
   "execution_count": null,
   "metadata": {},
   "outputs": [],
   "source": [
    "# url = \"https://www.moneygeek.com/financial-planning/resources/financial-literacy-handbook/\"\n",
    "# literacy_handbook = parseWebpage(url)\n",
    "# flh_text = literacy_handbook.extract_contents()\n",
    "# flh_chunks = literacy_handbook.chunk_into_paragraphs()\n",
    "# online_sources.update(flh_chunks)\n",
    "\n",
    "# title = literacy_handbook.title\n",
    "# print(f\"{title}\\n{'='*len(title)}\")\n",
    "# print(flh_chunks[title][0])"
   ]
  },
  {
   "cell_type": "code",
   "execution_count": null,
   "metadata": {},
   "outputs": [],
   "source": []
  },
  {
   "cell_type": "code",
   "execution_count": null,
   "metadata": {},
   "outputs": [],
   "source": [
    "# for p in online_sources[\"Financial Education and Reentry Resources After Incarceration\"]:\n",
    "#     print(p, \"\\n\")"
   ]
  },
  {
   "cell_type": "code",
   "execution_count": null,
   "metadata": {},
   "outputs": [],
   "source": []
  },
  {
   "cell_type": "code",
   "execution_count": null,
   "metadata": {},
   "outputs": [],
   "source": [
    "# url = \"https://www.moneygeek.com/financial-planning/resources/assistance-for-formerly-incarcerated/\"\n",
    "# r = requests.get(url)\n",
    "# soup = BeautifulSoup(r.content, \"lxml\")\n",
    "# print(soup.prettify())"
   ]
  },
  {
   "cell_type": "code",
   "execution_count": null,
   "metadata": {},
   "outputs": [],
   "source": []
  },
  {
   "cell_type": "code",
   "execution_count": null,
   "metadata": {},
   "outputs": [],
   "source": [
    "# # meat = \"\\n\".join([p.getText().strip() for p in soup.findAll(\"p\") if not p.attrs])\n",
    "# # selftext = unicodedata.normalize(\"NFKD\", meat).strip()\n",
    "# # selftext = re.sub(r\"\\n+\", \"\\n\", selftext)  # Replace duplicate newlines\n",
    "\n",
    "# for p in soup.findAll(\"p\"):\n",
    "#     t = p.getText().strip()\n",
    "#     if \"For most inmates\" in t:\n",
    "#         print(p)"
   ]
  },
  {
   "cell_type": "code",
   "execution_count": null,
   "metadata": {},
   "outputs": [],
   "source": [
    "# print(\"\\n\".join([p.getText().strip() for p in soup.findAll(\"p\", recursive=True)]))"
   ]
  },
  {
   "cell_type": "code",
   "execution_count": null,
   "metadata": {},
   "outputs": [],
   "source": [
    "# divs = soup.findAll(\"div\", P)\n",
    "\n",
    "# # print(\"\\n\".join([p.getText().strip() for p in soup.findAll(\"div\") if not p.has_attr(\"class\")]))\n",
    "# d0 = divs[0].prettify()\n",
    "# print(d0)"
   ]
  },
  {
   "cell_type": "code",
   "execution_count": null,
   "metadata": {},
   "outputs": [],
   "source": [
    "# ex_f = lambda x: x.tag \n",
    "# print(soup.find_all(\"title\"))\n",
    "# print(soup.find_all(ex_f))"
   ]
  },
  {
   "cell_type": "code",
   "execution_count": null,
   "metadata": {},
   "outputs": [],
   "source": [
    "# help(soup.find_all)"
   ]
  },
  {
   "cell_type": "code",
   "execution_count": null,
   "metadata": {},
   "outputs": [],
   "source": []
  },
  {
   "cell_type": "code",
   "execution_count": null,
   "metadata": {},
   "outputs": [],
   "source": [
    "# import requests\n",
    "# from bs4 import BeautifulSoup\n",
    "# import unicodedata\n",
    "# import urllib.request"
   ]
  },
  {
   "cell_type": "code",
   "execution_count": null,
   "metadata": {},
   "outputs": [],
   "source": [
    "# class parseWebpage:\n",
    "#     def __init__(self, url):\n",
    "#         self.url = url\n",
    "    \n",
    "#     def extract_contents(self):\n",
    "#         \"\"\" Extract the paragraph contents from a web page. \"\"\"\n",
    "#         # Scrape web page\n",
    "#         r = requests.get(self.url)\n",
    "#         soup = BeautifulSoup(r.content)\n",
    "#         self.title = soup.find(\"title\").getText().split(\"|\")[0].strip()\n",
    "        \n",
    "#         # Get the \"meat\" of the page\n",
    "#         meat = \"\\n\".join([p.getText().strip() for p in\n",
    "#             soup.findAll(\"p\") if not p.attrs])\n",
    "#         self.text = unicodedata.normalize(\"NFKD\", meat).strip()\n",
    "#         self.text = re.sub(r\"\\n+\", \"\\n\", self.text)  # Replace duplicate newlines\n",
    "#         return self.text\n",
    "    \n",
    "    \n",
    "#     def chunk_into_paragraphs(self):\n",
    "#         \"\"\" Break the text into medium-sized paragraph chunks. \"\"\"\n",
    "#         assert hasattr(self, \"text\"), \"You haven't parsed the text yet\"\n",
    "            \n",
    "#         # Break text up into paragraphs\n",
    "#         chunk_list = []\n",
    "#         for para in self.text.split(\"\\n\"):\n",
    "#             # Get paragraph length and previous chunk length\n",
    "#             paragraph_words = len(para.split())\n",
    "#             if len(chunk_list) > 0:\n",
    "#                 previous_words = len(chunk_list[-1].split())\n",
    "#             else:\n",
    "#                 previous_words = 0\n",
    "                \n",
    "#             # Break up a paragraph if it's too long\n",
    "#             max_words = 125\n",
    "#             s_per_para = 4  # sentences to define a paragraph\n",
    "#             if paragraph_words > max_words:\n",
    "#                 sentences = sent_tokenize(para)\n",
    "#                 subpara_len = len(sentences) // s_per_para\n",
    "#                 new_paras = [\" \".join(sp).strip() for sp in \n",
    "#                     np.array_split(sentences, max(1, subpara_len))]\n",
    "#                 chunk_list.extend(new_paras)\n",
    "#                 continue\n",
    "\n",
    "#             # Decide if it should be appended to previous chunk\n",
    "#             if not previous_words or previous_words > max_words:\n",
    "#                 chunk_list.append(para.strip())\n",
    "#             elif previous_words + paragraph_words < max_words:\n",
    "#                 chunk_list[-1] += \" \" + para.strip()\n",
    "#             else:\n",
    "#                 chunk_list.append(para.strip())\n",
    "        \n",
    "#         self.chunks = {self.title: chunk_list}\n",
    "#         return self.chunks"
   ]
  },
  {
   "cell_type": "code",
   "execution_count": null,
   "metadata": {},
   "outputs": [],
   "source": []
  },
  {
   "cell_type": "code",
   "execution_count": 58,
   "metadata": {},
   "outputs": [
    {
     "name": "stdout",
     "output_type": "stream",
     "text": [
      "hannah. is bad with.\n",
      "punctuation! Please fix. it. pi is 3.14159\n"
     ]
    }
   ],
   "source": [
    "s = \"hannah.is bad with.\\npunctuation! Please fix.it. pi is 3.14159\"\n",
    "\n",
    "\n",
    "# pattern = r\"([!,-.:;?])([!,-.:;?]+)\"\n",
    "pattern = r\"([A-Za-z][!,.:;?])([A-Za-z])\"\n",
    "print(re.sub(pattern, r\"\\1 \\2\", s))"
   ]
  },
  {
   "cell_type": "code",
   "execution_count": null,
   "metadata": {},
   "outputs": [],
   "source": []
  }
 ],
 "metadata": {
  "kernelspec": {
   "display_name": "Python 3",
   "language": "python",
   "name": "python3"
  },
  "language_info": {
   "codemirror_mode": {
    "name": "ipython",
    "version": 3
   },
   "file_extension": ".py",
   "mimetype": "text/x-python",
   "name": "python",
   "nbconvert_exporter": "python",
   "pygments_lexer": "ipython3",
   "version": "3.8.5"
  }
 },
 "nbformat": 4,
 "nbformat_minor": 4
}
